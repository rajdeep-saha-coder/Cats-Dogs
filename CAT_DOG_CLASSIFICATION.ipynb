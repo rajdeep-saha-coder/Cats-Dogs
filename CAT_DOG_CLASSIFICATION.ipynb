{
  "cells": [
    {
      "cell_type": "code",
      "execution_count": 2,
      "metadata": {
        "id": "CxpVstb9z6Xm"
      },
      "outputs": [],
      "source": [
        "import os\n",
        "import requests\n",
        "from zipfile import ZipFile\n",
        "import cv2\n",
        "import numpy as np\n",
        "from sklearn.model_selection import train_test_split\n",
        "from sklearn.preprocessing import LabelEncoder\n",
        "from tensorflow.keras.utils import to_categorical\n",
        "from sklearn.svm import SVC\n",
        "from sklearn.ensemble import RandomForestClassifier\n",
        "from sklearn.linear_model import SGDClassifier\n",
        "from tensorflow.keras.models import Sequential\n",
        "from tensorflow.keras.layers import Conv2D, MaxPooling2D, Flatten, Dense\n",
        "import joblib\n",
        "from tensorflow.keras.models import load_model"
      ]
    },
    {
      "cell_type": "code",
      "execution_count": 2,
      "metadata": {
        "colab": {
          "base_uri": "https://localhost:8080/"
        },
        "id": "Buq5fQfQ3Wgu",
        "outputId": "76db5865-eb9d-45a9-b4ab-5a3e6068b48c"
      },
      "outputs": [
        {
          "name": "stdout",
          "output_type": "stream",
          "text": [
            "Downloading dataset...\n"
          ]
        }
      ],
      "source": [
        "url = \"https://download.microsoft.com/download/3/E/1/3E1C3F21-ECDB-4869-8368-6DEBA77B919F/kagglecatsanddogs_5340.zip\"\n",
        "dataset_path = \"cats_and_dogs.zip\"\n",
        "\n",
        "if not os.path.exists(\"dataset\"):\n",
        "    print(\"Downloading dataset...\")\n",
        "    response = requests.get(url)\n",
        "    with open(dataset_path, 'wb') as file:\n",
        "        file.write(response.content)"
      ]
    },
    {
      "cell_type": "code",
      "execution_count": 3,
      "metadata": {
        "id": "TDx-eNhu3iYJ"
      },
      "outputs": [],
      "source": [
        "with ZipFile(dataset_path, 'r') as zip_ref:\n",
        "        zip_ref.extractall(\"dataset\")"
      ]
    },
    {
      "cell_type": "code",
      "execution_count": 3,
      "metadata": {
        "id": "XsyKc7Gz36Ie"
      },
      "outputs": [],
      "source": [
        "def preprocess_image(image_path, size=(16, 16)):  # Reduced size for faster processing\n",
        "    try:\n",
        "        image = cv2.imread(image_path)\n",
        "        image = cv2.resize(image, size)\n",
        "        image = image / 255.0  # Normalize\n",
        "        return image\n",
        "    except:\n",
        "        return None\n",
        "\n",
        "def load_data(data_dir, label_map, subset_size=None):\n",
        "    images, labels = [], []\n",
        "    for label, folder in label_map.items():\n",
        "        folder_path = os.path.join(data_dir, folder)\n",
        "        for i, filename in enumerate(os.listdir(folder_path)):\n",
        "            if subset_size and i >= subset_size:\n",
        "                break\n",
        "            file_path = os.path.join(folder_path, filename)\n",
        "            image = preprocess_image(file_path)\n",
        "            if image is not None:\n",
        "                images.append(image)\n",
        "                labels.append(label)\n",
        "    return np.array(images), np.array(labels)\n"
      ]
    },
    {
      "cell_type": "code",
      "execution_count": 4,
      "metadata": {
        "id": "vPQyDV3A4R-E"
      },
      "outputs": [],
      "source": [
        "data_dir = \"dataset/PetImages\"\n",
        "label_map = {0: \"Cat\", 1: \"Dog\"}\n",
        "subset_size = 5000  # Use a subset for faster training\n",
        "images, labels = load_data(data_dir, label_map, subset_size=subset_size)"
      ]
    },
    {
      "cell_type": "code",
      "execution_count": 5,
      "metadata": {
        "id": "kd-1Hw6V4fjK"
      },
      "outputs": [],
      "source": [
        "flattened_images = images.reshape(len(images), -1)"
      ]
    },
    {
      "cell_type": "code",
      "execution_count": 6,
      "metadata": {
        "id": "ncOWHGBX4lxj"
      },
      "outputs": [],
      "source": [
        "label_encoder = LabelEncoder()\n",
        "encoded_labels = label_encoder.fit_transform(labels)\n",
        "y_categorical = to_categorical(encoded_labels)"
      ]
    },
    {
      "cell_type": "code",
      "execution_count": 7,
      "metadata": {
        "id": "qEbgByGY4sUA"
      },
      "outputs": [],
      "source": [
        "X_train, X_test, y_train, y_test = train_test_split(flattened_images, encoded_labels, test_size=0.2, random_state=42)\n",
        "cnn_X_train, cnn_X_test, cnn_y_train, cnn_y_test = train_test_split(images, y_categorical, test_size=0.2, random_state=42)"
      ]
    },
    {
      "cell_type": "code",
      "execution_count": null,
      "metadata": {
        "colab": {
          "base_uri": "https://localhost:8080/"
        },
        "id": "C6PFc0oI5Eli",
        "outputId": "e59e65d4-bb47-41e8-d673-3a6d71236b56"
      },
      "outputs": [
        {
          "name": "stdout",
          "output_type": "stream",
          "text": [
            "Training SVM...\n"
          ]
        }
      ],
      "source": [
        "print(\"Training SVM...\")\n",
        "svm_model = SVC(kernel='linear', C=0.1, probability=True)\n",
        "svm_model.fit(X_train, y_train)\n",
        "joblib.dump(svm_model, \"svm_model.pkl\")\n",
        "print(\"SVM training completed and saved.\")"
      ]
    },
    {
      "cell_type": "code",
      "execution_count": null,
      "metadata": {
        "colab": {
          "base_uri": "https://localhost:8080/"
        },
        "id": "2k95rw_Z50i1",
        "outputId": "5347df3a-2566-4fc2-8cfc-0422c6627f89"
      },
      "outputs": [
        {
          "name": "stdout",
          "output_type": "stream",
          "text": [
            "Training Random Forest...\n",
            "Random Forest training completed and saved.\n"
          ]
        }
      ],
      "source": [
        "print(\"Training Random Forest...\")\n",
        "rf_model = RandomForestClassifier(n_estimators=50, max_depth=10, random_state=42)\n",
        "rf_model.fit(X_train, y_train)\n",
        "joblib.dump(rf_model, \"rf_model.pkl\")\n",
        "print(\"Random Forest training completed and saved.\")"
      ]
    },
    {
      "cell_type": "code",
      "execution_count": null,
      "metadata": {
        "colab": {
          "base_uri": "https://localhost:8080/"
        },
        "id": "uJoQFpx-6Q6b",
        "outputId": "2488cb60-d3f0-4411-b6f2-088914602d62"
      },
      "outputs": [
        {
          "name": "stdout",
          "output_type": "stream",
          "text": [
            "Training Logistic Regression...\n",
            "Logistic Regression training completed and saved.\n",
            "Training CNN...\n"
          ]
        },
        {
          "name": "stderr",
          "output_type": "stream",
          "text": [
            "/usr/local/lib/python3.11/dist-packages/keras/src/layers/convolutional/base_conv.py:107: UserWarning: Do not pass an `input_shape`/`input_dim` argument to a layer. When using Sequential models, prefer using an `Input(shape)` object as the first layer in the model instead.\n",
            "  super().__init__(activity_regularizer=activity_regularizer, **kwargs)\n"
          ]
        },
        {
          "name": "stdout",
          "output_type": "stream",
          "text": [
            "Epoch 1/30\n",
            "\u001b[1m125/125\u001b[0m \u001b[32m━━━━━━━━━━━━━━━━━━━━\u001b[0m\u001b[37m\u001b[0m \u001b[1m8s\u001b[0m 34ms/step - accuracy: 0.5525 - loss: 0.6829 - val_accuracy: 0.6832 - val_loss: 0.6144\n",
            "Epoch 2/30\n",
            "\u001b[1m125/125\u001b[0m \u001b[32m━━━━━━━━━━━━━━━━━━━━\u001b[0m\u001b[37m\u001b[0m \u001b[1m4s\u001b[0m 2ms/step - accuracy: 0.6681 - loss: 0.6140 - val_accuracy: 0.6982 - val_loss: 0.5852\n",
            "Epoch 3/30\n",
            "\u001b[1m125/125\u001b[0m \u001b[32m━━━━━━━━━━━━━━━━━━━━\u001b[0m\u001b[37m\u001b[0m \u001b[1m1s\u001b[0m 2ms/step - accuracy: 0.6949 - loss: 0.5757 - val_accuracy: 0.6752 - val_loss: 0.6123\n",
            "Epoch 4/30\n",
            "\u001b[1m125/125\u001b[0m \u001b[32m━━━━━━━━━━━━━━━━━━━━\u001b[0m\u001b[37m\u001b[0m \u001b[1m0s\u001b[0m 3ms/step - accuracy: 0.7170 - loss: 0.5568 - val_accuracy: 0.7013 - val_loss: 0.5722\n",
            "Epoch 5/30\n",
            "\u001b[1m125/125\u001b[0m \u001b[32m━━━━━━━━━━━━━━━━━━━━\u001b[0m\u001b[37m\u001b[0m \u001b[1m1s\u001b[0m 2ms/step - accuracy: 0.7214 - loss: 0.5489 - val_accuracy: 0.6912 - val_loss: 0.5969\n",
            "Epoch 6/30\n",
            "\u001b[1m125/125\u001b[0m \u001b[32m━━━━━━━━━━━━━━━━━━━━\u001b[0m\u001b[37m\u001b[0m \u001b[1m0s\u001b[0m 2ms/step - accuracy: 0.7250 - loss: 0.5373 - val_accuracy: 0.7108 - val_loss: 0.5788\n",
            "Epoch 7/30\n",
            "\u001b[1m125/125\u001b[0m \u001b[32m━━━━━━━━━━━━━━━━━━━━\u001b[0m\u001b[37m\u001b[0m \u001b[1m0s\u001b[0m 2ms/step - accuracy: 0.7395 - loss: 0.5197 - val_accuracy: 0.7358 - val_loss: 0.5506\n",
            "Epoch 8/30\n",
            "\u001b[1m125/125\u001b[0m \u001b[32m━━━━━━━━━━━━━━━━━━━━\u001b[0m\u001b[37m\u001b[0m \u001b[1m0s\u001b[0m 2ms/step - accuracy: 0.7457 - loss: 0.5091 - val_accuracy: 0.7358 - val_loss: 0.5501\n",
            "Epoch 9/30\n",
            "\u001b[1m125/125\u001b[0m \u001b[32m━━━━━━━━━━━━━━━━━━━━\u001b[0m\u001b[37m\u001b[0m \u001b[1m0s\u001b[0m 2ms/step - accuracy: 0.7590 - loss: 0.4905 - val_accuracy: 0.7278 - val_loss: 0.5592\n",
            "Epoch 10/30\n",
            "\u001b[1m125/125\u001b[0m \u001b[32m━━━━━━━━━━━━━━━━━━━━\u001b[0m\u001b[37m\u001b[0m \u001b[1m1s\u001b[0m 2ms/step - accuracy: 0.7690 - loss: 0.4852 - val_accuracy: 0.7303 - val_loss: 0.5472\n",
            "Epoch 11/30\n",
            "\u001b[1m125/125\u001b[0m \u001b[32m━━━━━━━━━━━━━━━━━━━━\u001b[0m\u001b[37m\u001b[0m \u001b[1m1s\u001b[0m 2ms/step - accuracy: 0.7819 - loss: 0.4692 - val_accuracy: 0.7193 - val_loss: 0.5634\n",
            "Epoch 12/30\n",
            "\u001b[1m125/125\u001b[0m \u001b[32m━━━━━━━━━━━━━━━━━━━━\u001b[0m\u001b[37m\u001b[0m \u001b[1m1s\u001b[0m 2ms/step - accuracy: 0.7715 - loss: 0.4788 - val_accuracy: 0.6922 - val_loss: 0.5993\n",
            "Epoch 13/30\n",
            "\u001b[1m125/125\u001b[0m \u001b[32m━━━━━━━━━━━━━━━━━━━━\u001b[0m\u001b[37m\u001b[0m \u001b[1m1s\u001b[0m 2ms/step - accuracy: 0.7893 - loss: 0.4542 - val_accuracy: 0.7203 - val_loss: 0.5618\n",
            "Epoch 14/30\n",
            "\u001b[1m125/125\u001b[0m \u001b[32m━━━━━━━━━━━━━━━━━━━━\u001b[0m\u001b[37m\u001b[0m \u001b[1m0s\u001b[0m 2ms/step - accuracy: 0.7902 - loss: 0.4507 - val_accuracy: 0.7233 - val_loss: 0.5574\n",
            "Epoch 15/30\n",
            "\u001b[1m125/125\u001b[0m \u001b[32m━━━━━━━━━━━━━━━━━━━━\u001b[0m\u001b[37m\u001b[0m \u001b[1m1s\u001b[0m 4ms/step - accuracy: 0.8015 - loss: 0.4242 - val_accuracy: 0.7328 - val_loss: 0.5523\n",
            "Epoch 16/30\n",
            "\u001b[1m125/125\u001b[0m \u001b[32m━━━━━━━━━━━━━━━━━━━━\u001b[0m\u001b[37m\u001b[0m \u001b[1m1s\u001b[0m 4ms/step - accuracy: 0.8151 - loss: 0.4071 - val_accuracy: 0.7338 - val_loss: 0.5672\n",
            "Epoch 17/30\n",
            "\u001b[1m125/125\u001b[0m \u001b[32m━━━━━━━━━━━━━━━━━━━━\u001b[0m\u001b[37m\u001b[0m \u001b[1m0s\u001b[0m 4ms/step - accuracy: 0.8247 - loss: 0.3934 - val_accuracy: 0.7343 - val_loss: 0.5655\n",
            "Epoch 18/30\n",
            "\u001b[1m125/125\u001b[0m \u001b[32m━━━━━━━━━━━━━━━━━━━━\u001b[0m\u001b[37m\u001b[0m \u001b[1m1s\u001b[0m 4ms/step - accuracy: 0.8363 - loss: 0.3810 - val_accuracy: 0.7308 - val_loss: 0.5853\n",
            "Epoch 19/30\n",
            "\u001b[1m125/125\u001b[0m \u001b[32m━━━━━━━━━━━━━━━━━━━━\u001b[0m\u001b[37m\u001b[0m \u001b[1m1s\u001b[0m 3ms/step - accuracy: 0.8297 - loss: 0.3828 - val_accuracy: 0.7283 - val_loss: 0.5719\n",
            "Epoch 20/30\n",
            "\u001b[1m125/125\u001b[0m \u001b[32m━━━━━━━━━━━━━━━━━━━━\u001b[0m\u001b[37m\u001b[0m \u001b[1m1s\u001b[0m 2ms/step - accuracy: 0.8409 - loss: 0.3604 - val_accuracy: 0.7193 - val_loss: 0.5743\n",
            "Epoch 21/30\n",
            "\u001b[1m125/125\u001b[0m \u001b[32m━━━━━━━━━━━━━━━━━━━━\u001b[0m\u001b[37m\u001b[0m \u001b[1m0s\u001b[0m 2ms/step - accuracy: 0.8595 - loss: 0.3364 - val_accuracy: 0.7358 - val_loss: 0.5798\n",
            "Epoch 22/30\n",
            "\u001b[1m125/125\u001b[0m \u001b[32m━━━━━━━━━━━━━━━━━━━━\u001b[0m\u001b[37m\u001b[0m \u001b[1m0s\u001b[0m 2ms/step - accuracy: 0.8748 - loss: 0.3135 - val_accuracy: 0.7213 - val_loss: 0.5921\n",
            "Epoch 23/30\n",
            "\u001b[1m125/125\u001b[0m \u001b[32m━━━━━━━━━━━━━━━━━━━━\u001b[0m\u001b[37m\u001b[0m \u001b[1m0s\u001b[0m 2ms/step - accuracy: 0.8721 - loss: 0.3161 - val_accuracy: 0.7278 - val_loss: 0.5972\n",
            "Epoch 24/30\n",
            "\u001b[1m125/125\u001b[0m \u001b[32m━━━━━━━━━━━━━━━━━━━━\u001b[0m\u001b[37m\u001b[0m \u001b[1m1s\u001b[0m 2ms/step - accuracy: 0.8840 - loss: 0.2918 - val_accuracy: 0.7253 - val_loss: 0.6235\n",
            "Epoch 25/30\n",
            "\u001b[1m125/125\u001b[0m \u001b[32m━━━━━━━━━━━━━━━━━━━━\u001b[0m\u001b[37m\u001b[0m \u001b[1m1s\u001b[0m 2ms/step - accuracy: 0.8804 - loss: 0.2962 - val_accuracy: 0.7228 - val_loss: 0.6203\n",
            "Epoch 26/30\n",
            "\u001b[1m125/125\u001b[0m \u001b[32m━━━━━━━━━━━━━━━━━━━━\u001b[0m\u001b[37m\u001b[0m \u001b[1m0s\u001b[0m 2ms/step - accuracy: 0.9000 - loss: 0.2659 - val_accuracy: 0.7128 - val_loss: 0.6516\n",
            "Epoch 27/30\n",
            "\u001b[1m125/125\u001b[0m \u001b[32m━━━━━━━━━━━━━━━━━━━━\u001b[0m\u001b[37m\u001b[0m \u001b[1m0s\u001b[0m 2ms/step - accuracy: 0.9065 - loss: 0.2537 - val_accuracy: 0.7193 - val_loss: 0.6499\n",
            "Epoch 28/30\n",
            "\u001b[1m125/125\u001b[0m \u001b[32m━━━━━━━━━━━━━━━━━━━━\u001b[0m\u001b[37m\u001b[0m \u001b[1m0s\u001b[0m 2ms/step - accuracy: 0.9140 - loss: 0.2369 - val_accuracy: 0.7153 - val_loss: 0.6642\n",
            "Epoch 29/30\n",
            "\u001b[1m125/125\u001b[0m \u001b[32m━━━━━━━━━━━━━━━━━━━━\u001b[0m\u001b[37m\u001b[0m \u001b[1m0s\u001b[0m 2ms/step - accuracy: 0.9220 - loss: 0.2221 - val_accuracy: 0.7243 - val_loss: 0.6889\n",
            "Epoch 30/30\n",
            "\u001b[1m125/125\u001b[0m \u001b[32m━━━━━━━━━━━━━━━━━━━━\u001b[0m\u001b[37m\u001b[0m \u001b[1m0s\u001b[0m 2ms/step - accuracy: 0.9244 - loss: 0.2113 - val_accuracy: 0.7228 - val_loss: 0.6925\n"
          ]
        },
        {
          "name": "stderr",
          "output_type": "stream",
          "text": [
            "WARNING:absl:You are saving your model as an HDF5 file via `model.save()` or `keras.saving.save_model(model)`. This file format is considered legacy. We recommend using instead the native Keras format, e.g. `model.save('my_model.keras')` or `keras.saving.save_model(model, 'my_model.keras')`. \n"
          ]
        },
        {
          "name": "stdout",
          "output_type": "stream",
          "text": [
            "CNN training completed and saved.\n"
          ]
        }
      ],
      "source": [
        "# Train Logistic Regression (SGD)\n",
        "print(\"Training Logistic Regression...\")\n",
        "sgd_model = SGDClassifier(loss='log_loss', max_iter=1000, random_state=42)  # Updated loss parameter\n",
        "sgd_model.fit(X_train, y_train)\n",
        "joblib.dump(sgd_model, \"sgd_model.pkl\")\n",
        "print(\"Logistic Regression training completed and saved.\")\n",
        "\n",
        "\n",
        "# Train CNN\n",
        "print(\"Training CNN...\")\n",
        "cnn_model = Sequential([\n",
        "    Conv2D(16, (3, 3), activation='relu', input_shape=(16, 16, 3)),  # Fewer filters\n",
        "    MaxPooling2D((2, 2)),\n",
        "    Flatten(),\n",
        "    Dense(64, activation='relu'),  # Smaller dense layer\n",
        "    Dense(2, activation='softmax')\n",
        "])\n",
        "\n",
        "cnn_model.compile(optimizer='adam', loss='categorical_crossentropy', metrics=['accuracy'])\n",
        "cnn_model.fit(cnn_X_train, cnn_y_train, epochs=30, batch_size=64, validation_data=(cnn_X_test, cnn_y_test))  # Fewer epochs\n",
        "cnn_model.save(\"cnn_model.h5\")\n",
        "print(\"CNN training completed and saved.\")"
      ]
    },
    {
      "cell_type": "code",
      "execution_count": 9,
      "metadata": {
        "colab": {
          "base_uri": "https://localhost:8080/"
        },
        "id": "Jhj5126b6fnM",
        "outputId": "7f60eb61-751a-4f3f-e08c-c3f41a0564fe"
      },
      "outputs": [
        {
          "name": "stdout",
          "output_type": "stream",
          "text": [
            "Loading models for inference...\n"
          ]
        },
        {
          "name": "stderr",
          "output_type": "stream",
          "text": [
            "c:\\Users\\KIIT\\OneDrive\\Desktop\\Cat_Dog_Classification\\venv\\Lib\\site-packages\\sklearn\\base.py:380: InconsistentVersionWarning: Trying to unpickle estimator SVC from version 1.6.0 when using version 1.6.1. This might lead to breaking code or invalid results. Use at your own risk. For more info please refer to:\n",
            "https://scikit-learn.org/stable/model_persistence.html#security-maintainability-limitations\n",
            "  warnings.warn(\n",
            "c:\\Users\\KIIT\\OneDrive\\Desktop\\Cat_Dog_Classification\\venv\\Lib\\site-packages\\sklearn\\base.py:380: InconsistentVersionWarning: Trying to unpickle estimator DecisionTreeClassifier from version 1.6.0 when using version 1.6.1. This might lead to breaking code or invalid results. Use at your own risk. For more info please refer to:\n",
            "https://scikit-learn.org/stable/model_persistence.html#security-maintainability-limitations\n",
            "  warnings.warn(\n",
            "c:\\Users\\KIIT\\OneDrive\\Desktop\\Cat_Dog_Classification\\venv\\Lib\\site-packages\\sklearn\\base.py:380: InconsistentVersionWarning: Trying to unpickle estimator RandomForestClassifier from version 1.6.0 when using version 1.6.1. This might lead to breaking code or invalid results. Use at your own risk. For more info please refer to:\n",
            "https://scikit-learn.org/stable/model_persistence.html#security-maintainability-limitations\n",
            "  warnings.warn(\n",
            "c:\\Users\\KIIT\\OneDrive\\Desktop\\Cat_Dog_Classification\\venv\\Lib\\site-packages\\sklearn\\base.py:380: InconsistentVersionWarning: Trying to unpickle estimator SGDClassifier from version 1.6.0 when using version 1.6.1. This might lead to breaking code or invalid results. Use at your own risk. For more info please refer to:\n",
            "https://scikit-learn.org/stable/model_persistence.html#security-maintainability-limitations\n",
            "  warnings.warn(\n",
            "WARNING:absl:Compiled the loaded model, but the compiled metrics have yet to be built. `model.compile_metrics` will be empty until you train or evaluate the model.\n"
          ]
        },
        {
          "name": "stdout",
          "output_type": "stream",
          "text": [
            "SVM Prediction: [1]\n",
            "Random Forest Prediction: [1]\n",
            "Logistic Regression Prediction: [1]\n",
            "\u001b[1m1/1\u001b[0m \u001b[32m━━━━━━━━━━━━━━━━━━━━\u001b[0m\u001b[37m\u001b[0m \u001b[1m0s\u001b[0m 282ms/step\n",
            "CNN Prediction: [1]\n"
          ]
        }
      ],
      "source": [
        "# Load models for inference\n",
        "print(\"Loading models for inference...\")\n",
        "svm_model = joblib.load(\"svm_model.pkl\")\n",
        "rf_model = joblib.load(\"rf_model.pkl\")\n",
        "sgd_model = joblib.load(\"sgd_model.pkl\")\n",
        "cnn_model = load_model(\"cnn_model.h5\")\n",
        "\n",
        "# Test on one sample image\n",
        "sample_image = X_test[0].reshape(1, -1)  # For non-CNN models\n",
        "cnn_sample_image = cnn_X_test[0].reshape(1, 16, 16, 3)  # For CNN\n",
        "\n",
        "print(\"SVM Prediction:\", label_encoder.inverse_transform(svm_model.predict(sample_image)))\n",
        "print(\"Random Forest Prediction:\", label_encoder.inverse_transform(rf_model.predict(sample_image)))\n",
        "print(\"Logistic Regression Prediction:\", label_encoder.inverse_transform(sgd_model.predict(sample_image)))\n",
        "print(\"CNN Prediction:\", label_encoder.inverse_transform(np.argmax(cnn_model.predict(cnn_sample_image), axis=1)))"
      ]
    },
    {
      "cell_type": "code",
      "execution_count": 10,
      "metadata": {
        "colab": {
          "base_uri": "https://localhost:8080/"
        },
        "id": "-y6iuhxF7WoL",
        "outputId": "3b50d62a-d374-4f6b-eb58-b674a1034a7d"
      },
      "outputs": [
        {
          "name": "stdout",
          "output_type": "stream",
          "text": [
            "Training K-Means...\n",
            "K-Means training completed and saved.\n"
          ]
        }
      ],
      "source": [
        "# Train K-Means\n",
        "from sklearn.cluster import KMeans\n",
        "from sklearn.metrics import accuracy_score\n",
        "import warnings\n",
        "warnings.filterwarnings('ignore')  # Suppress warnings for clean outpu\n",
        "print(\"Training K-Means...\")\n",
        "kmeans_model = KMeans(n_clusters=2, random_state=42)\n",
        "kmeans_model.fit(X_train)  # Unsupervised training on flattened images\n",
        "joblib.dump(kmeans_model, \"kmeans_model.pkl\")\n",
        "print(\"K-Means training completed and saved.\")"
      ]
    },
    {
      "cell_type": "code",
      "execution_count": 11,
      "metadata": {
        "colab": {
          "base_uri": "https://localhost:8080/"
        },
        "id": "97t8-K277Z6-",
        "outputId": "17b13d78-2788-4478-e99c-4baac8ae4703"
      },
      "outputs": [
        {
          "name": "stdout",
          "output_type": "stream",
          "text": [
            "Collecting flask-ngrok\n",
            "  Downloading flask_ngrok-0.0.25-py3-none-any.whl.metadata (1.8 kB)\n",
            "Collecting flask\n",
            "  Using cached flask-3.1.0-py3-none-any.whl.metadata (2.7 kB)\n",
            "Requirement already satisfied: tensorflow in c:\\users\\kiit\\onedrive\\desktop\\cat_dog_classification\\venv\\lib\\site-packages (2.18.0)\n",
            "Requirement already satisfied: scikit-learn in c:\\users\\kiit\\onedrive\\desktop\\cat_dog_classification\\venv\\lib\\site-packages (1.6.1)\n",
            "Collecting pillow\n",
            "  Using cached pillow-11.1.0-cp312-cp312-win_amd64.whl.metadata (9.3 kB)\n",
            "Requirement already satisfied: requests in c:\\users\\kiit\\onedrive\\desktop\\cat_dog_classification\\venv\\lib\\site-packages (from flask-ngrok) (2.32.3)\n",
            "Requirement already satisfied: Werkzeug>=3.1 in c:\\users\\kiit\\onedrive\\desktop\\cat_dog_classification\\venv\\lib\\site-packages (from flask) (3.1.3)\n",
            "Collecting Jinja2>=3.1.2 (from flask)\n",
            "  Using cached jinja2-3.1.5-py3-none-any.whl.metadata (2.6 kB)\n",
            "Collecting itsdangerous>=2.2 (from flask)\n",
            "  Using cached itsdangerous-2.2.0-py3-none-any.whl.metadata (1.9 kB)\n",
            "Collecting click>=8.1.3 (from flask)\n",
            "  Using cached click-8.1.8-py3-none-any.whl.metadata (2.3 kB)\n",
            "Collecting blinker>=1.9 (from flask)\n",
            "  Using cached blinker-1.9.0-py3-none-any.whl.metadata (1.6 kB)\n",
            "Requirement already satisfied: tensorflow-intel==2.18.0 in c:\\users\\kiit\\onedrive\\desktop\\cat_dog_classification\\venv\\lib\\site-packages (from tensorflow) (2.18.0)\n",
            "Requirement already satisfied: absl-py>=1.0.0 in c:\\users\\kiit\\onedrive\\desktop\\cat_dog_classification\\venv\\lib\\site-packages (from tensorflow-intel==2.18.0->tensorflow) (2.1.0)\n",
            "Requirement already satisfied: astunparse>=1.6.0 in c:\\users\\kiit\\onedrive\\desktop\\cat_dog_classification\\venv\\lib\\site-packages (from tensorflow-intel==2.18.0->tensorflow) (1.6.3)\n",
            "Requirement already satisfied: flatbuffers>=24.3.25 in c:\\users\\kiit\\onedrive\\desktop\\cat_dog_classification\\venv\\lib\\site-packages (from tensorflow-intel==2.18.0->tensorflow) (25.1.21)\n",
            "Requirement already satisfied: gast!=0.5.0,!=0.5.1,!=0.5.2,>=0.2.1 in c:\\users\\kiit\\onedrive\\desktop\\cat_dog_classification\\venv\\lib\\site-packages (from tensorflow-intel==2.18.0->tensorflow) (0.6.0)\n",
            "Requirement already satisfied: google-pasta>=0.1.1 in c:\\users\\kiit\\onedrive\\desktop\\cat_dog_classification\\venv\\lib\\site-packages (from tensorflow-intel==2.18.0->tensorflow) (0.2.0)\n",
            "Requirement already satisfied: libclang>=13.0.0 in c:\\users\\kiit\\onedrive\\desktop\\cat_dog_classification\\venv\\lib\\site-packages (from tensorflow-intel==2.18.0->tensorflow) (18.1.1)\n",
            "Requirement already satisfied: opt-einsum>=2.3.2 in c:\\users\\kiit\\onedrive\\desktop\\cat_dog_classification\\venv\\lib\\site-packages (from tensorflow-intel==2.18.0->tensorflow) (3.4.0)\n",
            "Requirement already satisfied: packaging in c:\\users\\kiit\\onedrive\\desktop\\cat_dog_classification\\venv\\lib\\site-packages (from tensorflow-intel==2.18.0->tensorflow) (24.2)\n",
            "Requirement already satisfied: protobuf!=4.21.0,!=4.21.1,!=4.21.2,!=4.21.3,!=4.21.4,!=4.21.5,<6.0.0dev,>=3.20.3 in c:\\users\\kiit\\onedrive\\desktop\\cat_dog_classification\\venv\\lib\\site-packages (from tensorflow-intel==2.18.0->tensorflow) (5.29.3)\n",
            "Requirement already satisfied: setuptools in c:\\users\\kiit\\onedrive\\desktop\\cat_dog_classification\\venv\\lib\\site-packages (from tensorflow-intel==2.18.0->tensorflow) (75.8.0)\n",
            "Requirement already satisfied: six>=1.12.0 in c:\\users\\kiit\\onedrive\\desktop\\cat_dog_classification\\venv\\lib\\site-packages (from tensorflow-intel==2.18.0->tensorflow) (1.17.0)\n",
            "Requirement already satisfied: termcolor>=1.1.0 in c:\\users\\kiit\\onedrive\\desktop\\cat_dog_classification\\venv\\lib\\site-packages (from tensorflow-intel==2.18.0->tensorflow) (2.5.0)\n",
            "Requirement already satisfied: typing-extensions>=3.6.6 in c:\\users\\kiit\\onedrive\\desktop\\cat_dog_classification\\venv\\lib\\site-packages (from tensorflow-intel==2.18.0->tensorflow) (4.12.2)\n",
            "Requirement already satisfied: wrapt>=1.11.0 in c:\\users\\kiit\\onedrive\\desktop\\cat_dog_classification\\venv\\lib\\site-packages (from tensorflow-intel==2.18.0->tensorflow) (1.17.2)\n",
            "Requirement already satisfied: grpcio<2.0,>=1.24.3 in c:\\users\\kiit\\onedrive\\desktop\\cat_dog_classification\\venv\\lib\\site-packages (from tensorflow-intel==2.18.0->tensorflow) (1.69.0)\n",
            "Requirement already satisfied: tensorboard<2.19,>=2.18 in c:\\users\\kiit\\onedrive\\desktop\\cat_dog_classification\\venv\\lib\\site-packages (from tensorflow-intel==2.18.0->tensorflow) (2.18.0)\n",
            "Requirement already satisfied: keras>=3.5.0 in c:\\users\\kiit\\onedrive\\desktop\\cat_dog_classification\\venv\\lib\\site-packages (from tensorflow-intel==2.18.0->tensorflow) (3.8.0)\n",
            "Requirement already satisfied: numpy<2.1.0,>=1.26.0 in c:\\users\\kiit\\onedrive\\desktop\\cat_dog_classification\\venv\\lib\\site-packages (from tensorflow-intel==2.18.0->tensorflow) (2.0.2)\n",
            "Requirement already satisfied: h5py>=3.11.0 in c:\\users\\kiit\\onedrive\\desktop\\cat_dog_classification\\venv\\lib\\site-packages (from tensorflow-intel==2.18.0->tensorflow) (3.12.1)\n",
            "Requirement already satisfied: ml-dtypes<0.5.0,>=0.4.0 in c:\\users\\kiit\\onedrive\\desktop\\cat_dog_classification\\venv\\lib\\site-packages (from tensorflow-intel==2.18.0->tensorflow) (0.4.1)\n",
            "Requirement already satisfied: scipy>=1.6.0 in c:\\users\\kiit\\onedrive\\desktop\\cat_dog_classification\\venv\\lib\\site-packages (from scikit-learn) (1.15.1)\n",
            "Requirement already satisfied: joblib>=1.2.0 in c:\\users\\kiit\\onedrive\\desktop\\cat_dog_classification\\venv\\lib\\site-packages (from scikit-learn) (1.4.2)\n",
            "Requirement already satisfied: threadpoolctl>=3.1.0 in c:\\users\\kiit\\onedrive\\desktop\\cat_dog_classification\\venv\\lib\\site-packages (from scikit-learn) (3.5.0)\n",
            "Requirement already satisfied: colorama in c:\\users\\kiit\\onedrive\\desktop\\cat_dog_classification\\venv\\lib\\site-packages (from click>=8.1.3->flask) (0.4.6)\n",
            "Requirement already satisfied: MarkupSafe>=2.0 in c:\\users\\kiit\\onedrive\\desktop\\cat_dog_classification\\venv\\lib\\site-packages (from Jinja2>=3.1.2->flask) (3.0.2)\n",
            "Requirement already satisfied: charset-normalizer<4,>=2 in c:\\users\\kiit\\onedrive\\desktop\\cat_dog_classification\\venv\\lib\\site-packages (from requests->flask-ngrok) (3.4.1)\n",
            "Requirement already satisfied: idna<4,>=2.5 in c:\\users\\kiit\\onedrive\\desktop\\cat_dog_classification\\venv\\lib\\site-packages (from requests->flask-ngrok) (3.10)\n",
            "Requirement already satisfied: urllib3<3,>=1.21.1 in c:\\users\\kiit\\onedrive\\desktop\\cat_dog_classification\\venv\\lib\\site-packages (from requests->flask-ngrok) (2.3.0)\n",
            "Requirement already satisfied: certifi>=2017.4.17 in c:\\users\\kiit\\onedrive\\desktop\\cat_dog_classification\\venv\\lib\\site-packages (from requests->flask-ngrok) (2024.12.14)\n",
            "Requirement already satisfied: wheel<1.0,>=0.23.0 in c:\\users\\kiit\\onedrive\\desktop\\cat_dog_classification\\venv\\lib\\site-packages (from astunparse>=1.6.0->tensorflow-intel==2.18.0->tensorflow) (0.45.1)\n",
            "Requirement already satisfied: rich in c:\\users\\kiit\\onedrive\\desktop\\cat_dog_classification\\venv\\lib\\site-packages (from keras>=3.5.0->tensorflow-intel==2.18.0->tensorflow) (13.9.4)\n",
            "Requirement already satisfied: namex in c:\\users\\kiit\\onedrive\\desktop\\cat_dog_classification\\venv\\lib\\site-packages (from keras>=3.5.0->tensorflow-intel==2.18.0->tensorflow) (0.0.8)\n",
            "Requirement already satisfied: optree in c:\\users\\kiit\\onedrive\\desktop\\cat_dog_classification\\venv\\lib\\site-packages (from keras>=3.5.0->tensorflow-intel==2.18.0->tensorflow) (0.14.0)\n",
            "Requirement already satisfied: markdown>=2.6.8 in c:\\users\\kiit\\onedrive\\desktop\\cat_dog_classification\\venv\\lib\\site-packages (from tensorboard<2.19,>=2.18->tensorflow-intel==2.18.0->tensorflow) (3.7)\n",
            "Requirement already satisfied: tensorboard-data-server<0.8.0,>=0.7.0 in c:\\users\\kiit\\onedrive\\desktop\\cat_dog_classification\\venv\\lib\\site-packages (from tensorboard<2.19,>=2.18->tensorflow-intel==2.18.0->tensorflow) (0.7.2)\n",
            "Requirement already satisfied: markdown-it-py>=2.2.0 in c:\\users\\kiit\\onedrive\\desktop\\cat_dog_classification\\venv\\lib\\site-packages (from rich->keras>=3.5.0->tensorflow-intel==2.18.0->tensorflow) (3.0.0)\n",
            "Requirement already satisfied: pygments<3.0.0,>=2.13.0 in c:\\users\\kiit\\onedrive\\desktop\\cat_dog_classification\\venv\\lib\\site-packages (from rich->keras>=3.5.0->tensorflow-intel==2.18.0->tensorflow) (2.19.1)\n",
            "Requirement already satisfied: mdurl~=0.1 in c:\\users\\kiit\\onedrive\\desktop\\cat_dog_classification\\venv\\lib\\site-packages (from markdown-it-py>=2.2.0->rich->keras>=3.5.0->tensorflow-intel==2.18.0->tensorflow) (0.1.2)\n",
            "Downloading flask_ngrok-0.0.25-py3-none-any.whl (3.1 kB)\n",
            "Using cached flask-3.1.0-py3-none-any.whl (102 kB)\n",
            "Using cached pillow-11.1.0-cp312-cp312-win_amd64.whl (2.6 MB)\n",
            "Using cached blinker-1.9.0-py3-none-any.whl (8.5 kB)\n",
            "Using cached click-8.1.8-py3-none-any.whl (98 kB)\n",
            "Using cached itsdangerous-2.2.0-py3-none-any.whl (16 kB)\n",
            "Using cached jinja2-3.1.5-py3-none-any.whl (134 kB)\n",
            "Installing collected packages: pillow, Jinja2, itsdangerous, click, blinker, flask, flask-ngrok\n",
            "Successfully installed Jinja2-3.1.5 blinker-1.9.0 click-8.1.8 flask-3.1.0 flask-ngrok-0.0.25 itsdangerous-2.2.0 pillow-11.1.0\n",
            "Note: you may need to restart the kernel to use updated packages.\n"
          ]
        },
        {
          "name": "stderr",
          "output_type": "stream",
          "text": [
            "\n",
            "[notice] A new release of pip is available: 24.0 -> 24.3.1\n",
            "[notice] To update, run: python.exe -m pip install --upgrade pip\n"
          ]
        }
      ],
      "source": [
        "pip install flask-ngrok flask tensorflow scikit-learn pillow"
      ]
    },
    {
      "cell_type": "code",
      "execution_count": 12,
      "metadata": {
        "colab": {
          "base_uri": "https://localhost:8080/"
        },
        "id": "dSPstMrg7ujA",
        "outputId": "0f37c3dc-423d-4592-9ebf-06175be0816b"
      },
      "outputs": [
        {
          "name": "stdout",
          "output_type": "stream",
          "text": [
            "Collecting jupyter-dash\n",
            "  Downloading jupyter_dash-0.4.2-py3-none-any.whl.metadata (3.6 kB)\n",
            "Collecting dash (from jupyter-dash)\n",
            "  Downloading dash-2.18.2-py3-none-any.whl.metadata (10 kB)\n",
            "Requirement already satisfied: requests in c:\\users\\kiit\\onedrive\\desktop\\cat_dog_classification\\venv\\lib\\site-packages (from jupyter-dash) (2.32.3)\n",
            "Requirement already satisfied: flask in c:\\users\\kiit\\onedrive\\desktop\\cat_dog_classification\\venv\\lib\\site-packages (from jupyter-dash) (3.1.0)\n",
            "Collecting retrying (from jupyter-dash)\n",
            "  Downloading retrying-1.3.4-py3-none-any.whl.metadata (6.9 kB)\n",
            "Requirement already satisfied: ipython in c:\\users\\kiit\\onedrive\\desktop\\cat_dog_classification\\venv\\lib\\site-packages (from jupyter-dash) (8.31.0)\n",
            "Requirement already satisfied: ipykernel in c:\\users\\kiit\\onedrive\\desktop\\cat_dog_classification\\venv\\lib\\site-packages (from jupyter-dash) (6.29.5)\n",
            "Collecting ansi2html (from jupyter-dash)\n",
            "  Downloading ansi2html-1.9.2-py3-none-any.whl.metadata (3.7 kB)\n",
            "Requirement already satisfied: nest-asyncio in c:\\users\\kiit\\onedrive\\desktop\\cat_dog_classification\\venv\\lib\\site-packages (from jupyter-dash) (1.6.0)\n",
            "Collecting flask (from jupyter-dash)\n",
            "  Downloading flask-3.0.3-py3-none-any.whl.metadata (3.2 kB)\n",
            "Collecting Werkzeug<3.1 (from dash->jupyter-dash)\n",
            "  Downloading werkzeug-3.0.6-py3-none-any.whl.metadata (3.7 kB)\n",
            "Collecting plotly>=5.0.0 (from dash->jupyter-dash)\n",
            "  Downloading plotly-5.24.1-py3-none-any.whl.metadata (7.3 kB)\n",
            "Collecting dash-html-components==2.0.0 (from dash->jupyter-dash)\n",
            "  Downloading dash_html_components-2.0.0-py3-none-any.whl.metadata (3.8 kB)\n",
            "Collecting dash-core-components==2.0.0 (from dash->jupyter-dash)\n",
            "  Downloading dash_core_components-2.0.0-py3-none-any.whl.metadata (2.9 kB)\n",
            "Collecting dash-table==5.0.0 (from dash->jupyter-dash)\n",
            "  Downloading dash_table-5.0.0-py3-none-any.whl.metadata (2.4 kB)\n",
            "Collecting importlib-metadata (from dash->jupyter-dash)\n",
            "  Downloading importlib_metadata-8.6.1-py3-none-any.whl.metadata (4.7 kB)\n",
            "Requirement already satisfied: typing-extensions>=4.1.1 in c:\\users\\kiit\\onedrive\\desktop\\cat_dog_classification\\venv\\lib\\site-packages (from dash->jupyter-dash) (4.12.2)\n",
            "Requirement already satisfied: setuptools in c:\\users\\kiit\\onedrive\\desktop\\cat_dog_classification\\venv\\lib\\site-packages (from dash->jupyter-dash) (75.8.0)\n",
            "Requirement already satisfied: Jinja2>=3.1.2 in c:\\users\\kiit\\onedrive\\desktop\\cat_dog_classification\\venv\\lib\\site-packages (from flask->jupyter-dash) (3.1.5)\n",
            "Requirement already satisfied: itsdangerous>=2.1.2 in c:\\users\\kiit\\onedrive\\desktop\\cat_dog_classification\\venv\\lib\\site-packages (from flask->jupyter-dash) (2.2.0)\n",
            "Requirement already satisfied: click>=8.1.3 in c:\\users\\kiit\\onedrive\\desktop\\cat_dog_classification\\venv\\lib\\site-packages (from flask->jupyter-dash) (8.1.8)\n",
            "Requirement already satisfied: blinker>=1.6.2 in c:\\users\\kiit\\onedrive\\desktop\\cat_dog_classification\\venv\\lib\\site-packages (from flask->jupyter-dash) (1.9.0)\n",
            "Requirement already satisfied: comm>=0.1.1 in c:\\users\\kiit\\onedrive\\desktop\\cat_dog_classification\\venv\\lib\\site-packages (from ipykernel->jupyter-dash) (0.2.2)\n",
            "Requirement already satisfied: debugpy>=1.6.5 in c:\\users\\kiit\\onedrive\\desktop\\cat_dog_classification\\venv\\lib\\site-packages (from ipykernel->jupyter-dash) (1.8.12)\n",
            "Requirement already satisfied: jupyter-client>=6.1.12 in c:\\users\\kiit\\onedrive\\desktop\\cat_dog_classification\\venv\\lib\\site-packages (from ipykernel->jupyter-dash) (8.6.3)\n",
            "Requirement already satisfied: jupyter-core!=5.0.*,>=4.12 in c:\\users\\kiit\\onedrive\\desktop\\cat_dog_classification\\venv\\lib\\site-packages (from ipykernel->jupyter-dash) (5.7.2)\n",
            "Requirement already satisfied: matplotlib-inline>=0.1 in c:\\users\\kiit\\onedrive\\desktop\\cat_dog_classification\\venv\\lib\\site-packages (from ipykernel->jupyter-dash) (0.1.7)\n",
            "Requirement already satisfied: packaging in c:\\users\\kiit\\onedrive\\desktop\\cat_dog_classification\\venv\\lib\\site-packages (from ipykernel->jupyter-dash) (24.2)\n",
            "Requirement already satisfied: psutil in c:\\users\\kiit\\onedrive\\desktop\\cat_dog_classification\\venv\\lib\\site-packages (from ipykernel->jupyter-dash) (6.1.1)\n",
            "Requirement already satisfied: pyzmq>=24 in c:\\users\\kiit\\onedrive\\desktop\\cat_dog_classification\\venv\\lib\\site-packages (from ipykernel->jupyter-dash) (26.2.0)\n",
            "Requirement already satisfied: tornado>=6.1 in c:\\users\\kiit\\onedrive\\desktop\\cat_dog_classification\\venv\\lib\\site-packages (from ipykernel->jupyter-dash) (6.4.2)\n",
            "Requirement already satisfied: traitlets>=5.4.0 in c:\\users\\kiit\\onedrive\\desktop\\cat_dog_classification\\venv\\lib\\site-packages (from ipykernel->jupyter-dash) (5.14.3)\n",
            "Requirement already satisfied: colorama in c:\\users\\kiit\\onedrive\\desktop\\cat_dog_classification\\venv\\lib\\site-packages (from ipython->jupyter-dash) (0.4.6)\n",
            "Requirement already satisfied: decorator in c:\\users\\kiit\\onedrive\\desktop\\cat_dog_classification\\venv\\lib\\site-packages (from ipython->jupyter-dash) (5.1.1)\n",
            "Requirement already satisfied: jedi>=0.16 in c:\\users\\kiit\\onedrive\\desktop\\cat_dog_classification\\venv\\lib\\site-packages (from ipython->jupyter-dash) (0.19.2)\n",
            "Requirement already satisfied: prompt_toolkit<3.1.0,>=3.0.41 in c:\\users\\kiit\\onedrive\\desktop\\cat_dog_classification\\venv\\lib\\site-packages (from ipython->jupyter-dash) (3.0.50)\n",
            "Requirement already satisfied: pygments>=2.4.0 in c:\\users\\kiit\\onedrive\\desktop\\cat_dog_classification\\venv\\lib\\site-packages (from ipython->jupyter-dash) (2.19.1)\n",
            "Requirement already satisfied: stack_data in c:\\users\\kiit\\onedrive\\desktop\\cat_dog_classification\\venv\\lib\\site-packages (from ipython->jupyter-dash) (0.6.3)\n",
            "Requirement already satisfied: charset-normalizer<4,>=2 in c:\\users\\kiit\\onedrive\\desktop\\cat_dog_classification\\venv\\lib\\site-packages (from requests->jupyter-dash) (3.4.1)\n",
            "Requirement already satisfied: idna<4,>=2.5 in c:\\users\\kiit\\onedrive\\desktop\\cat_dog_classification\\venv\\lib\\site-packages (from requests->jupyter-dash) (3.10)\n",
            "Requirement already satisfied: urllib3<3,>=1.21.1 in c:\\users\\kiit\\onedrive\\desktop\\cat_dog_classification\\venv\\lib\\site-packages (from requests->jupyter-dash) (2.3.0)\n",
            "Requirement already satisfied: certifi>=2017.4.17 in c:\\users\\kiit\\onedrive\\desktop\\cat_dog_classification\\venv\\lib\\site-packages (from requests->jupyter-dash) (2024.12.14)\n",
            "Requirement already satisfied: six>=1.7.0 in c:\\users\\kiit\\onedrive\\desktop\\cat_dog_classification\\venv\\lib\\site-packages (from retrying->jupyter-dash) (1.17.0)\n",
            "Requirement already satisfied: parso<0.9.0,>=0.8.4 in c:\\users\\kiit\\onedrive\\desktop\\cat_dog_classification\\venv\\lib\\site-packages (from jedi>=0.16->ipython->jupyter-dash) (0.8.4)\n",
            "Requirement already satisfied: MarkupSafe>=2.0 in c:\\users\\kiit\\onedrive\\desktop\\cat_dog_classification\\venv\\lib\\site-packages (from Jinja2>=3.1.2->flask->jupyter-dash) (3.0.2)\n",
            "Requirement already satisfied: python-dateutil>=2.8.2 in c:\\users\\kiit\\onedrive\\desktop\\cat_dog_classification\\venv\\lib\\site-packages (from jupyter-client>=6.1.12->ipykernel->jupyter-dash) (2.9.0.post0)\n",
            "Requirement already satisfied: platformdirs>=2.5 in c:\\users\\kiit\\onedrive\\desktop\\cat_dog_classification\\venv\\lib\\site-packages (from jupyter-core!=5.0.*,>=4.12->ipykernel->jupyter-dash) (4.3.6)\n",
            "Requirement already satisfied: pywin32>=300 in c:\\users\\kiit\\onedrive\\desktop\\cat_dog_classification\\venv\\lib\\site-packages (from jupyter-core!=5.0.*,>=4.12->ipykernel->jupyter-dash) (308)\n",
            "Collecting tenacity>=6.2.0 (from plotly>=5.0.0->dash->jupyter-dash)\n",
            "  Downloading tenacity-9.0.0-py3-none-any.whl.metadata (1.2 kB)\n",
            "Requirement already satisfied: wcwidth in c:\\users\\kiit\\onedrive\\desktop\\cat_dog_classification\\venv\\lib\\site-packages (from prompt_toolkit<3.1.0,>=3.0.41->ipython->jupyter-dash) (0.2.13)\n",
            "Collecting zipp>=3.20 (from importlib-metadata->dash->jupyter-dash)\n",
            "  Downloading zipp-3.21.0-py3-none-any.whl.metadata (3.7 kB)\n",
            "Requirement already satisfied: executing>=1.2.0 in c:\\users\\kiit\\onedrive\\desktop\\cat_dog_classification\\venv\\lib\\site-packages (from stack_data->ipython->jupyter-dash) (2.2.0)\n",
            "Requirement already satisfied: asttokens>=2.1.0 in c:\\users\\kiit\\onedrive\\desktop\\cat_dog_classification\\venv\\lib\\site-packages (from stack_data->ipython->jupyter-dash) (3.0.0)\n",
            "Requirement already satisfied: pure-eval in c:\\users\\kiit\\onedrive\\desktop\\cat_dog_classification\\venv\\lib\\site-packages (from stack_data->ipython->jupyter-dash) (0.2.3)\n",
            "Downloading jupyter_dash-0.4.2-py3-none-any.whl (23 kB)\n",
            "Downloading ansi2html-1.9.2-py3-none-any.whl (17 kB)\n",
            "Downloading dash-2.18.2-py3-none-any.whl (7.8 MB)\n",
            "   ---------------------------------------- 0.0/7.8 MB ? eta -:--:--\n",
            "   ---------------------------------------- 0.0/7.8 MB 1.3 MB/s eta 0:00:07\n",
            "   ---------------------------------------- 0.0/7.8 MB 653.6 kB/s eta 0:00:12\n",
            "   ---------------------------------------- 0.1/7.8 MB 655.4 kB/s eta 0:00:12\n",
            "    --------------------------------------- 0.1/7.8 MB 656.4 kB/s eta 0:00:12\n",
            "    --------------------------------------- 0.2/7.8 MB 908.0 kB/s eta 0:00:09\n",
            "   - -------------------------------------- 0.2/7.8 MB 942.1 kB/s eta 0:00:09\n",
            "   - -------------------------------------- 0.3/7.8 MB 999.9 kB/s eta 0:00:08\n",
            "   - -------------------------------------- 0.4/7.8 MB 1.1 MB/s eta 0:00:07\n",
            "   -- ------------------------------------- 0.5/7.8 MB 1.1 MB/s eta 0:00:07\n",
            "   -- ------------------------------------- 0.5/7.8 MB 1.2 MB/s eta 0:00:06\n",
            "   -- ------------------------------------- 0.6/7.8 MB 1.2 MB/s eta 0:00:07\n",
            "   --- ------------------------------------ 0.7/7.8 MB 1.2 MB/s eta 0:00:06\n",
            "   --- ------------------------------------ 0.7/7.8 MB 1.3 MB/s eta 0:00:06\n",
            "   --- ------------------------------------ 0.7/7.8 MB 1.2 MB/s eta 0:00:06\n",
            "   ---- ----------------------------------- 0.8/7.8 MB 1.2 MB/s eta 0:00:06\n",
            "   ---- ----------------------------------- 0.9/7.8 MB 1.3 MB/s eta 0:00:06\n",
            "   ----- ---------------------------------- 1.0/7.8 MB 1.3 MB/s eta 0:00:06\n",
            "   ----- ---------------------------------- 1.1/7.8 MB 1.4 MB/s eta 0:00:05\n",
            "   ------ --------------------------------- 1.2/7.8 MB 1.4 MB/s eta 0:00:05\n",
            "   ------ --------------------------------- 1.3/7.8 MB 1.4 MB/s eta 0:00:05\n",
            "   ------ --------------------------------- 1.3/7.8 MB 1.4 MB/s eta 0:00:05\n",
            "   ------- -------------------------------- 1.4/7.8 MB 1.4 MB/s eta 0:00:05\n",
            "   ------- -------------------------------- 1.5/7.8 MB 1.5 MB/s eta 0:00:05\n",
            "   -------- ------------------------------- 1.6/7.8 MB 1.5 MB/s eta 0:00:05\n",
            "   -------- ------------------------------- 1.7/7.8 MB 1.5 MB/s eta 0:00:04\n",
            "   -------- ------------------------------- 1.7/7.8 MB 1.5 MB/s eta 0:00:04\n",
            "   --------- ------------------------------ 1.9/7.8 MB 1.6 MB/s eta 0:00:04\n",
            "   --------- ------------------------------ 1.9/7.8 MB 1.6 MB/s eta 0:00:04\n",
            "   ---------- ----------------------------- 2.0/7.8 MB 1.5 MB/s eta 0:00:04\n",
            "   ---------- ----------------------------- 2.0/7.8 MB 1.5 MB/s eta 0:00:04\n",
            "   ---------- ----------------------------- 2.1/7.8 MB 1.5 MB/s eta 0:00:04\n",
            "   ----------- ---------------------------- 2.2/7.8 MB 1.6 MB/s eta 0:00:04\n",
            "   ----------- ---------------------------- 2.3/7.8 MB 1.6 MB/s eta 0:00:04\n",
            "   ------------ --------------------------- 2.4/7.8 MB 1.6 MB/s eta 0:00:04\n",
            "   ------------ --------------------------- 2.5/7.8 MB 1.6 MB/s eta 0:00:04\n",
            "   ------------ --------------------------- 2.5/7.8 MB 1.6 MB/s eta 0:00:04\n",
            "   ------------- -------------------------- 2.7/7.8 MB 1.7 MB/s eta 0:00:04\n",
            "   -------------- ------------------------- 2.7/7.8 MB 1.7 MB/s eta 0:00:04\n",
            "   -------------- ------------------------- 2.8/7.8 MB 1.6 MB/s eta 0:00:04\n",
            "   -------------- ------------------------- 2.8/7.8 MB 1.7 MB/s eta 0:00:04\n",
            "   --------------- ------------------------ 2.9/7.8 MB 1.7 MB/s eta 0:00:03\n",
            "   --------------- ------------------------ 3.0/7.8 MB 1.7 MB/s eta 0:00:03\n",
            "   ---------------- ----------------------- 3.2/7.8 MB 1.7 MB/s eta 0:00:03\n",
            "   ---------------- ----------------------- 3.2/7.8 MB 1.7 MB/s eta 0:00:03\n",
            "   ---------------- ----------------------- 3.2/7.8 MB 1.7 MB/s eta 0:00:03\n",
            "   ----------------- ---------------------- 3.4/7.8 MB 1.7 MB/s eta 0:00:03\n",
            "   ----------------- ---------------------- 3.5/7.8 MB 1.7 MB/s eta 0:00:03\n",
            "   ------------------ --------------------- 3.6/7.8 MB 1.7 MB/s eta 0:00:03\n",
            "   ------------------ --------------------- 3.7/7.8 MB 1.7 MB/s eta 0:00:03\n",
            "   ------------------- -------------------- 3.8/7.8 MB 1.7 MB/s eta 0:00:03\n",
            "   ------------------- -------------------- 3.9/7.8 MB 1.7 MB/s eta 0:00:03\n",
            "   -------------------- ------------------- 3.9/7.8 MB 1.7 MB/s eta 0:00:03\n",
            "   -------------------- ------------------- 4.0/7.8 MB 1.7 MB/s eta 0:00:03\n",
            "   --------------------- ------------------ 4.1/7.8 MB 1.7 MB/s eta 0:00:03\n",
            "   --------------------- ------------------ 4.2/7.8 MB 1.7 MB/s eta 0:00:03\n",
            "   ---------------------- ----------------- 4.3/7.8 MB 1.7 MB/s eta 0:00:03\n",
            "   ---------------------- ----------------- 4.4/7.8 MB 1.8 MB/s eta 0:00:02\n",
            "   ----------------------- ---------------- 4.5/7.8 MB 1.8 MB/s eta 0:00:02\n",
            "   ----------------------- ---------------- 4.6/7.8 MB 1.8 MB/s eta 0:00:02\n",
            "   ------------------------ --------------- 4.7/7.8 MB 1.8 MB/s eta 0:00:02\n",
            "   ------------------------ --------------- 4.8/7.8 MB 1.8 MB/s eta 0:00:02\n",
            "   ------------------------- -------------- 4.9/7.8 MB 1.8 MB/s eta 0:00:02\n",
            "   ------------------------- -------------- 5.0/7.8 MB 1.8 MB/s eta 0:00:02\n",
            "   -------------------------- ------------- 5.2/7.8 MB 1.8 MB/s eta 0:00:02\n",
            "   -------------------------- ------------- 5.2/7.8 MB 1.8 MB/s eta 0:00:02\n",
            "   --------------------------- ------------ 5.3/7.8 MB 1.8 MB/s eta 0:00:02\n",
            "   --------------------------- ------------ 5.4/7.8 MB 1.8 MB/s eta 0:00:02\n",
            "   ---------------------------- ----------- 5.5/7.8 MB 1.8 MB/s eta 0:00:02\n",
            "   ---------------------------- ----------- 5.6/7.8 MB 1.8 MB/s eta 0:00:02\n",
            "   ----------------------------- ---------- 5.7/7.8 MB 1.8 MB/s eta 0:00:02\n",
            "   ----------------------------- ---------- 5.7/7.8 MB 1.8 MB/s eta 0:00:02\n",
            "   ----------------------------- ---------- 5.8/7.8 MB 1.8 MB/s eta 0:00:02\n",
            "   ------------------------------ --------- 5.9/7.8 MB 1.8 MB/s eta 0:00:02\n",
            "   ------------------------------ --------- 6.0/7.8 MB 1.8 MB/s eta 0:00:01\n",
            "   ------------------------------- -------- 6.1/7.8 MB 1.8 MB/s eta 0:00:01\n",
            "   ------------------------------- -------- 6.1/7.8 MB 1.8 MB/s eta 0:00:01\n",
            "   ------------------------------- -------- 6.2/7.8 MB 1.8 MB/s eta 0:00:01\n",
            "   -------------------------------- ------- 6.3/7.8 MB 1.8 MB/s eta 0:00:01\n",
            "   -------------------------------- ------- 6.3/7.8 MB 1.8 MB/s eta 0:00:01\n",
            "   -------------------------------- ------- 6.3/7.8 MB 1.8 MB/s eta 0:00:01\n",
            "   --------------------------------- ------ 6.5/7.8 MB 1.8 MB/s eta 0:00:01\n",
            "   --------------------------------- ------ 6.6/7.8 MB 1.8 MB/s eta 0:00:01\n",
            "   ---------------------------------- ----- 6.7/7.8 MB 1.8 MB/s eta 0:00:01\n",
            "   ---------------------------------- ----- 6.8/7.8 MB 1.8 MB/s eta 0:00:01\n",
            "   ----------------------------------- ---- 6.9/7.8 MB 1.8 MB/s eta 0:00:01\n",
            "   ----------------------------------- ---- 6.9/7.8 MB 1.8 MB/s eta 0:00:01\n",
            "   ------------------------------------ --- 7.0/7.8 MB 1.8 MB/s eta 0:00:01\n",
            "   ------------------------------------ --- 7.1/7.8 MB 1.8 MB/s eta 0:00:01\n",
            "   ------------------------------------ --- 7.2/7.8 MB 1.8 MB/s eta 0:00:01\n",
            "   ------------------------------------- -- 7.3/7.8 MB 1.8 MB/s eta 0:00:01\n",
            "   ------------------------------------- -- 7.3/7.8 MB 1.8 MB/s eta 0:00:01\n",
            "   ------------------------------------- -- 7.4/7.8 MB 1.8 MB/s eta 0:00:01\n",
            "   -------------------------------------- - 7.5/7.8 MB 1.8 MB/s eta 0:00:01\n",
            "   -------------------------------------- - 7.5/7.8 MB 1.8 MB/s eta 0:00:01\n",
            "   -------------------------------------- - 7.6/7.8 MB 1.8 MB/s eta 0:00:01\n",
            "   -------------------------------------- - 7.6/7.8 MB 1.8 MB/s eta 0:00:01\n",
            "   -------------------------------------- - 7.6/7.8 MB 1.7 MB/s eta 0:00:01\n",
            "   -------------------------------------- - 7.6/7.8 MB 1.7 MB/s eta 0:00:01\n",
            "   ---------------------------------------  7.6/7.8 MB 1.7 MB/s eta 0:00:01\n",
            "   ---------------------------------------  7.6/7.8 MB 1.7 MB/s eta 0:00:01\n",
            "   ---------------------------------------  7.8/7.8 MB 1.7 MB/s eta 0:00:01\n",
            "   ---------------------------------------- 7.8/7.8 MB 1.7 MB/s eta 0:00:00\n",
            "Downloading dash_core_components-2.0.0-py3-none-any.whl (3.8 kB)\n",
            "Downloading dash_html_components-2.0.0-py3-none-any.whl (4.1 kB)\n",
            "Downloading dash_table-5.0.0-py3-none-any.whl (3.9 kB)\n",
            "Downloading flask-3.0.3-py3-none-any.whl (101 kB)\n",
            "   ---------------------------------------- 0.0/101.7 kB ? eta -:--:--\n",
            "   ---------------------------------------- 0.0/101.7 kB ? eta -:--:--\n",
            "   -------------------------------- ------- 81.9/101.7 kB 2.3 MB/s eta 0:00:01\n",
            "   ---------------------------------------- 101.7/101.7 kB 1.5 MB/s eta 0:00:00\n",
            "Downloading retrying-1.3.4-py3-none-any.whl (11 kB)\n",
            "Downloading plotly-5.24.1-py3-none-any.whl (19.1 MB)\n",
            "   ---------------------------------------- 0.0/19.1 MB ? eta -:--:--\n",
            "   ---------------------------------------- 0.1/19.1 MB 1.5 MB/s eta 0:00:13\n",
            "   ---------------------------------------- 0.1/19.1 MB 1.3 MB/s eta 0:00:15\n",
            "   ---------------------------------------- 0.2/19.1 MB 1.2 MB/s eta 0:00:17\n",
            "    --------------------------------------- 0.2/19.1 MB 1.3 MB/s eta 0:00:16\n",
            "    --------------------------------------- 0.3/19.1 MB 1.3 MB/s eta 0:00:15\n",
            "    --------------------------------------- 0.4/19.1 MB 1.3 MB/s eta 0:00:15\n",
            "    --------------------------------------- 0.4/19.1 MB 1.2 MB/s eta 0:00:15\n",
            "    --------------------------------------- 0.5/19.1 MB 1.3 MB/s eta 0:00:15\n",
            "   - -------------------------------------- 0.5/19.1 MB 1.2 MB/s eta 0:00:16\n",
            "   - -------------------------------------- 0.6/19.1 MB 1.2 MB/s eta 0:00:16\n",
            "   - -------------------------------------- 0.6/19.1 MB 1.2 MB/s eta 0:00:16\n",
            "   - -------------------------------------- 0.7/19.1 MB 1.1 MB/s eta 0:00:17\n",
            "   - -------------------------------------- 0.7/19.1 MB 1.1 MB/s eta 0:00:17\n",
            "   - -------------------------------------- 0.7/19.1 MB 1.1 MB/s eta 0:00:17\n",
            "   - -------------------------------------- 0.8/19.1 MB 1.1 MB/s eta 0:00:17\n",
            "   - -------------------------------------- 0.8/19.1 MB 1.1 MB/s eta 0:00:18\n",
            "   - -------------------------------------- 0.8/19.1 MB 1.0 MB/s eta 0:00:18\n",
            "   - -------------------------------------- 0.8/19.1 MB 994.9 kB/s eta 0:00:19\n",
            "   - -------------------------------------- 0.9/19.1 MB 982.2 kB/s eta 0:00:19\n",
            "   - -------------------------------------- 0.9/19.1 MB 976.8 kB/s eta 0:00:19\n",
            "   -- ------------------------------------- 1.0/19.1 MB 987.6 kB/s eta 0:00:19\n",
            "   -- ------------------------------------- 1.0/19.1 MB 987.8 kB/s eta 0:00:19\n",
            "   -- ------------------------------------- 1.1/19.1 MB 987.0 kB/s eta 0:00:19\n",
            "   -- ------------------------------------- 1.1/19.1 MB 978.2 kB/s eta 0:00:19\n",
            "   -- ------------------------------------- 1.2/19.1 MB 978.6 kB/s eta 0:00:19\n",
            "   -- ------------------------------------- 1.2/19.1 MB 986.7 kB/s eta 0:00:19\n",
            "   -- ------------------------------------- 1.3/19.1 MB 982.5 kB/s eta 0:00:19\n",
            "   -- ------------------------------------- 1.3/19.1 MB 1.0 MB/s eta 0:00:18\n",
            "   -- ------------------------------------- 1.4/19.1 MB 993.8 kB/s eta 0:00:18\n",
            "   -- ------------------------------------- 1.4/19.1 MB 993.8 kB/s eta 0:00:18\n",
            "   --- ------------------------------------ 1.5/19.1 MB 993.0 kB/s eta 0:00:18\n",
            "   --- ------------------------------------ 1.5/19.1 MB 1.0 MB/s eta 0:00:18\n",
            "   --- ------------------------------------ 1.6/19.1 MB 1.0 MB/s eta 0:00:18\n",
            "   --- ------------------------------------ 1.6/19.1 MB 1.0 MB/s eta 0:00:18\n",
            "   --- ------------------------------------ 1.6/19.1 MB 988.8 kB/s eta 0:00:18\n",
            "   --- ------------------------------------ 1.6/19.1 MB 988.8 kB/s eta 0:00:18\n",
            "   --- ------------------------------------ 1.8/19.1 MB 1.0 MB/s eta 0:00:18\n",
            "   --- ------------------------------------ 1.8/19.1 MB 1.0 MB/s eta 0:00:17\n",
            "   --- ------------------------------------ 1.9/19.1 MB 1.0 MB/s eta 0:00:17\n",
            "   ---- ----------------------------------- 1.9/19.1 MB 1.0 MB/s eta 0:00:17\n",
            "   ---- ----------------------------------- 2.0/19.1 MB 1.0 MB/s eta 0:00:17\n",
            "   ---- ----------------------------------- 2.1/19.1 MB 1.0 MB/s eta 0:00:17\n",
            "   ---- ----------------------------------- 2.1/19.1 MB 1.0 MB/s eta 0:00:17\n",
            "   ---- ----------------------------------- 2.2/19.1 MB 1.0 MB/s eta 0:00:17\n",
            "   ---- ----------------------------------- 2.2/19.1 MB 1.0 MB/s eta 0:00:17\n",
            "   ---- ----------------------------------- 2.3/19.1 MB 1.0 MB/s eta 0:00:17\n",
            "   ---- ----------------------------------- 2.3/19.1 MB 1.0 MB/s eta 0:00:17\n",
            "   ---- ----------------------------------- 2.4/19.1 MB 1.0 MB/s eta 0:00:17\n",
            "   ----- ---------------------------------- 2.4/19.1 MB 1.0 MB/s eta 0:00:17\n",
            "   ----- ---------------------------------- 2.5/19.1 MB 1.0 MB/s eta 0:00:17\n",
            "   ----- ---------------------------------- 2.5/19.1 MB 1.0 MB/s eta 0:00:16\n",
            "   ----- ---------------------------------- 2.5/19.1 MB 1.0 MB/s eta 0:00:17\n",
            "   ----- ---------------------------------- 2.6/19.1 MB 1.0 MB/s eta 0:00:16\n",
            "   ----- ---------------------------------- 2.7/19.1 MB 1.0 MB/s eta 0:00:16\n",
            "   ----- ---------------------------------- 2.7/19.1 MB 1.0 MB/s eta 0:00:16\n",
            "   ----- ---------------------------------- 2.8/19.1 MB 1.0 MB/s eta 0:00:16\n",
            "   ----- ---------------------------------- 2.8/19.1 MB 1.0 MB/s eta 0:00:16\n",
            "   ------ --------------------------------- 2.9/19.1 MB 1.0 MB/s eta 0:00:16\n",
            "   ------ --------------------------------- 2.9/19.1 MB 1.0 MB/s eta 0:00:16\n",
            "   ------ --------------------------------- 3.0/19.1 MB 1.0 MB/s eta 0:00:16\n",
            "   ------ --------------------------------- 3.0/19.1 MB 1.0 MB/s eta 0:00:16\n",
            "   ------ --------------------------------- 3.0/19.1 MB 1.0 MB/s eta 0:00:16\n",
            "   ------ --------------------------------- 3.1/19.1 MB 1.0 MB/s eta 0:00:16\n",
            "   ------ --------------------------------- 3.1/19.1 MB 1.0 MB/s eta 0:00:16\n",
            "   ------ --------------------------------- 3.1/19.1 MB 1.0 MB/s eta 0:00:16\n",
            "   ------ --------------------------------- 3.2/19.1 MB 1.0 MB/s eta 0:00:16\n",
            "   ------ --------------------------------- 3.2/19.1 MB 1.0 MB/s eta 0:00:16\n",
            "   ------ --------------------------------- 3.3/19.1 MB 1.0 MB/s eta 0:00:16\n",
            "   ------ --------------------------------- 3.3/19.1 MB 1.0 MB/s eta 0:00:16\n",
            "   ------- -------------------------------- 3.3/19.1 MB 999.7 kB/s eta 0:00:16\n",
            "   ------- -------------------------------- 3.4/19.1 MB 1.0 MB/s eta 0:00:16\n",
            "   ------- -------------------------------- 3.4/19.1 MB 997.8 kB/s eta 0:00:16\n",
            "   ------- -------------------------------- 3.5/19.1 MB 996.1 kB/s eta 0:00:16\n",
            "   ------- -------------------------------- 3.5/19.1 MB 997.3 kB/s eta 0:00:16\n",
            "   ------- -------------------------------- 3.6/19.1 MB 1.0 MB/s eta 0:00:16\n",
            "   ------- -------------------------------- 3.6/19.1 MB 1.0 MB/s eta 0:00:16\n",
            "   ------- -------------------------------- 3.7/19.1 MB 1.0 MB/s eta 0:00:16\n",
            "   ------- -------------------------------- 3.7/19.1 MB 1.0 MB/s eta 0:00:16\n",
            "   ------- -------------------------------- 3.7/19.1 MB 1.0 MB/s eta 0:00:16\n",
            "   ------- -------------------------------- 3.7/19.1 MB 1.0 MB/s eta 0:00:16\n",
            "   -------- ------------------------------- 3.9/19.1 MB 1.0 MB/s eta 0:00:16\n",
            "   -------- ------------------------------- 3.9/19.1 MB 1.0 MB/s eta 0:00:16\n",
            "   -------- ------------------------------- 4.0/19.1 MB 1.0 MB/s eta 0:00:15\n",
            "   -------- ------------------------------- 4.0/19.1 MB 1.0 MB/s eta 0:00:15\n",
            "   -------- ------------------------------- 4.1/19.1 MB 1.0 MB/s eta 0:00:15\n",
            "   -------- ------------------------------- 4.1/19.1 MB 1.0 MB/s eta 0:00:15\n",
            "   -------- ------------------------------- 4.1/19.1 MB 996.6 kB/s eta 0:00:15\n",
            "   -------- ------------------------------- 4.2/19.1 MB 997.6 kB/s eta 0:00:15\n",
            "   -------- ------------------------------- 4.2/19.1 MB 998.6 kB/s eta 0:00:15\n",
            "   --------- ------------------------------ 4.3/19.1 MB 1.0 MB/s eta 0:00:15\n",
            "   --------- ------------------------------ 4.4/19.1 MB 1.0 MB/s eta 0:00:15\n",
            "   --------- ------------------------------ 4.5/19.1 MB 1.0 MB/s eta 0:00:15\n",
            "   --------- ------------------------------ 4.5/19.1 MB 1.0 MB/s eta 0:00:15\n",
            "   --------- ------------------------------ 4.6/19.1 MB 1.0 MB/s eta 0:00:15\n",
            "   --------- ------------------------------ 4.7/19.1 MB 1.0 MB/s eta 0:00:14\n",
            "   --------- ------------------------------ 4.7/19.1 MB 1.0 MB/s eta 0:00:14\n",
            "   ---------- ----------------------------- 4.8/19.1 MB 1.0 MB/s eta 0:00:14\n",
            "   ---------- ----------------------------- 4.8/19.1 MB 1.0 MB/s eta 0:00:14\n",
            "   ---------- ----------------------------- 4.9/19.1 MB 1.0 MB/s eta 0:00:14\n",
            "   ---------- ----------------------------- 5.0/19.1 MB 1.0 MB/s eta 0:00:14\n",
            "   ---------- ----------------------------- 5.0/19.1 MB 1.0 MB/s eta 0:00:14\n",
            "   ---------- ----------------------------- 5.1/19.1 MB 1.1 MB/s eta 0:00:14\n",
            "   ---------- ----------------------------- 5.2/19.1 MB 1.1 MB/s eta 0:00:13\n",
            "   ----------- ---------------------------- 5.3/19.1 MB 1.1 MB/s eta 0:00:13\n",
            "   ----------- ---------------------------- 5.4/19.1 MB 1.1 MB/s eta 0:00:13\n",
            "   ----------- ---------------------------- 5.5/19.1 MB 1.1 MB/s eta 0:00:13\n",
            "   ----------- ---------------------------- 5.6/19.1 MB 1.1 MB/s eta 0:00:13\n",
            "   ----------- ---------------------------- 5.6/19.1 MB 1.1 MB/s eta 0:00:13\n",
            "   ----------- ---------------------------- 5.7/19.1 MB 1.1 MB/s eta 0:00:13\n",
            "   ------------ --------------------------- 5.8/19.1 MB 1.1 MB/s eta 0:00:13\n",
            "   ------------ --------------------------- 5.9/19.1 MB 1.1 MB/s eta 0:00:12\n",
            "   ------------ --------------------------- 6.0/19.1 MB 1.1 MB/s eta 0:00:12\n",
            "   ------------ --------------------------- 6.0/19.1 MB 1.1 MB/s eta 0:00:12\n",
            "   ------------ --------------------------- 6.1/19.1 MB 1.1 MB/s eta 0:00:12\n",
            "   ------------- -------------------------- 6.2/19.1 MB 1.1 MB/s eta 0:00:12\n",
            "   ------------- -------------------------- 6.3/19.1 MB 1.1 MB/s eta 0:00:12\n",
            "   ------------- -------------------------- 6.4/19.1 MB 1.1 MB/s eta 0:00:12\n",
            "   ------------- -------------------------- 6.5/19.1 MB 1.1 MB/s eta 0:00:11\n",
            "   ------------- -------------------------- 6.5/19.1 MB 1.2 MB/s eta 0:00:11\n",
            "   ------------- -------------------------- 6.5/19.1 MB 1.2 MB/s eta 0:00:11\n",
            "   ------------- -------------------------- 6.6/19.1 MB 1.2 MB/s eta 0:00:11\n",
            "   ------------- -------------------------- 6.6/19.1 MB 1.2 MB/s eta 0:00:11\n",
            "   -------------- ------------------------- 6.8/19.1 MB 1.2 MB/s eta 0:00:11\n",
            "   -------------- ------------------------- 6.9/19.1 MB 1.2 MB/s eta 0:00:11\n",
            "   -------------- ------------------------- 6.9/19.1 MB 1.2 MB/s eta 0:00:11\n",
            "   -------------- ------------------------- 6.9/19.1 MB 1.2 MB/s eta 0:00:11\n",
            "   -------------- ------------------------- 7.0/19.1 MB 1.2 MB/s eta 0:00:11\n",
            "   -------------- ------------------------- 7.1/19.1 MB 1.2 MB/s eta 0:00:11\n",
            "   -------------- ------------------------- 7.1/19.1 MB 1.2 MB/s eta 0:00:11\n",
            "   --------------- ------------------------ 7.3/19.1 MB 1.2 MB/s eta 0:00:11\n",
            "   --------------- ------------------------ 7.3/19.1 MB 1.2 MB/s eta 0:00:10\n",
            "   --------------- ------------------------ 7.4/19.1 MB 1.2 MB/s eta 0:00:10\n",
            "   --------------- ------------------------ 7.5/19.1 MB 1.2 MB/s eta 0:00:10\n",
            "   --------------- ------------------------ 7.5/19.1 MB 1.2 MB/s eta 0:00:10\n",
            "   --------------- ------------------------ 7.6/19.1 MB 1.2 MB/s eta 0:00:10\n",
            "   ---------------- ----------------------- 7.7/19.1 MB 1.2 MB/s eta 0:00:10\n",
            "   ---------------- ----------------------- 7.7/19.1 MB 1.2 MB/s eta 0:00:10\n",
            "   ---------------- ----------------------- 7.8/19.1 MB 1.2 MB/s eta 0:00:10\n",
            "   ---------------- ----------------------- 7.9/19.1 MB 1.2 MB/s eta 0:00:10\n",
            "   ---------------- ----------------------- 7.9/19.1 MB 1.2 MB/s eta 0:00:10\n",
            "   ---------------- ----------------------- 8.0/19.1 MB 1.2 MB/s eta 0:00:10\n",
            "   ---------------- ----------------------- 8.1/19.1 MB 1.2 MB/s eta 0:00:10\n",
            "   ---------------- ----------------------- 8.1/19.1 MB 1.2 MB/s eta 0:00:10\n",
            "   ----------------- ---------------------- 8.2/19.1 MB 1.2 MB/s eta 0:00:10\n",
            "   ----------------- ---------------------- 8.2/19.1 MB 1.2 MB/s eta 0:00:10\n",
            "   ----------------- ---------------------- 8.3/19.1 MB 1.2 MB/s eta 0:00:09\n",
            "   ----------------- ---------------------- 8.4/19.1 MB 1.2 MB/s eta 0:00:09\n",
            "   ----------------- ---------------------- 8.5/19.1 MB 1.2 MB/s eta 0:00:09\n",
            "   ----------------- ---------------------- 8.5/19.1 MB 1.2 MB/s eta 0:00:09\n",
            "   ------------------ --------------------- 8.6/19.1 MB 1.2 MB/s eta 0:00:09\n",
            "   ------------------ --------------------- 8.7/19.1 MB 1.2 MB/s eta 0:00:09\n",
            "   ------------------ --------------------- 8.7/19.1 MB 1.2 MB/s eta 0:00:09\n",
            "   ------------------ --------------------- 8.8/19.1 MB 1.2 MB/s eta 0:00:09\n",
            "   ------------------ --------------------- 8.8/19.1 MB 1.2 MB/s eta 0:00:09\n",
            "   ------------------ --------------------- 8.9/19.1 MB 1.2 MB/s eta 0:00:09\n",
            "   ------------------ --------------------- 9.0/19.1 MB 1.2 MB/s eta 0:00:09\n",
            "   ------------------ --------------------- 9.0/19.1 MB 1.2 MB/s eta 0:00:09\n",
            "   ------------------- -------------------- 9.1/19.1 MB 1.2 MB/s eta 0:00:09\n",
            "   ------------------- -------------------- 9.2/19.1 MB 1.2 MB/s eta 0:00:09\n",
            "   ------------------- -------------------- 9.3/19.1 MB 1.2 MB/s eta 0:00:09\n",
            "   ------------------- -------------------- 9.3/19.1 MB 1.2 MB/s eta 0:00:08\n",
            "   ------------------- -------------------- 9.4/19.1 MB 1.2 MB/s eta 0:00:08\n",
            "   ------------------- -------------------- 9.5/19.1 MB 1.2 MB/s eta 0:00:08\n",
            "   ------------------- -------------------- 9.5/19.1 MB 1.2 MB/s eta 0:00:08\n",
            "   ------------------- -------------------- 9.5/19.1 MB 1.2 MB/s eta 0:00:08\n",
            "   -------------------- ------------------- 9.5/19.1 MB 1.2 MB/s eta 0:00:08\n",
            "   -------------------- ------------------- 9.5/19.1 MB 1.2 MB/s eta 0:00:08\n",
            "   -------------------- ------------------- 9.6/19.1 MB 1.2 MB/s eta 0:00:08\n",
            "   -------------------- ------------------- 9.6/19.1 MB 1.2 MB/s eta 0:00:08\n",
            "   -------------------- ------------------- 9.7/19.1 MB 1.2 MB/s eta 0:00:08\n",
            "   -------------------- ------------------- 9.7/19.1 MB 1.2 MB/s eta 0:00:08\n",
            "   -------------------- ------------------- 9.7/19.1 MB 1.2 MB/s eta 0:00:08\n",
            "   -------------------- ------------------- 9.8/19.1 MB 1.2 MB/s eta 0:00:08\n",
            "   -------------------- ------------------- 9.9/19.1 MB 1.2 MB/s eta 0:00:08\n",
            "   -------------------- ------------------- 9.9/19.1 MB 1.2 MB/s eta 0:00:08\n",
            "   --------------------- ------------------ 10.0/19.1 MB 1.2 MB/s eta 0:00:08\n",
            "   --------------------- ------------------ 10.1/19.1 MB 1.2 MB/s eta 0:00:08\n",
            "   --------------------- ------------------ 10.2/19.1 MB 1.2 MB/s eta 0:00:08\n",
            "   --------------------- ------------------ 10.2/19.1 MB 1.2 MB/s eta 0:00:08\n",
            "   --------------------- ------------------ 10.3/19.1 MB 1.2 MB/s eta 0:00:08\n",
            "   --------------------- ------------------ 10.3/19.1 MB 1.2 MB/s eta 0:00:08\n",
            "   --------------------- ------------------ 10.4/19.1 MB 1.2 MB/s eta 0:00:08\n",
            "   --------------------- ------------------ 10.4/19.1 MB 1.2 MB/s eta 0:00:08\n",
            "   ---------------------- ----------------- 10.5/19.1 MB 1.2 MB/s eta 0:00:08\n",
            "   ---------------------- ----------------- 10.6/19.1 MB 1.2 MB/s eta 0:00:08\n",
            "   ---------------------- ----------------- 10.6/19.1 MB 1.2 MB/s eta 0:00:07\n",
            "   ---------------------- ----------------- 10.7/19.1 MB 1.2 MB/s eta 0:00:07\n",
            "   ---------------------- ----------------- 10.7/19.1 MB 1.2 MB/s eta 0:00:07\n",
            "   ---------------------- ----------------- 10.8/19.1 MB 1.2 MB/s eta 0:00:07\n",
            "   ---------------------- ----------------- 10.9/19.1 MB 1.2 MB/s eta 0:00:07\n",
            "   ---------------------- ----------------- 10.9/19.1 MB 1.2 MB/s eta 0:00:07\n",
            "   ---------------------- ----------------- 10.9/19.1 MB 1.2 MB/s eta 0:00:07\n",
            "   ----------------------- ---------------- 11.1/19.1 MB 1.2 MB/s eta 0:00:07\n",
            "   ----------------------- ---------------- 11.2/19.1 MB 1.3 MB/s eta 0:00:07\n",
            "   ----------------------- ---------------- 11.3/19.1 MB 1.3 MB/s eta 0:00:07\n",
            "   ----------------------- ---------------- 11.3/19.1 MB 1.3 MB/s eta 0:00:07\n",
            "   ----------------------- ---------------- 11.3/19.1 MB 1.2 MB/s eta 0:00:07\n",
            "   ----------------------- ---------------- 11.3/19.1 MB 1.3 MB/s eta 0:00:07\n",
            "   ----------------------- ---------------- 11.3/19.1 MB 1.3 MB/s eta 0:00:07\n",
            "   ----------------------- ---------------- 11.4/19.1 MB 1.2 MB/s eta 0:00:07\n",
            "   ------------------------ --------------- 11.5/19.1 MB 1.2 MB/s eta 0:00:07\n",
            "   ------------------------ --------------- 11.5/19.1 MB 1.2 MB/s eta 0:00:07\n",
            "   ------------------------ --------------- 11.6/19.1 MB 1.2 MB/s eta 0:00:07\n",
            "   ------------------------ --------------- 11.6/19.1 MB 1.2 MB/s eta 0:00:06\n",
            "   ------------------------ --------------- 11.6/19.1 MB 1.2 MB/s eta 0:00:06\n",
            "   ------------------------ --------------- 11.6/19.1 MB 1.2 MB/s eta 0:00:07\n",
            "   ------------------------ --------------- 11.7/19.1 MB 1.2 MB/s eta 0:00:06\n",
            "   ------------------------ --------------- 11.7/19.1 MB 1.2 MB/s eta 0:00:06\n",
            "   ------------------------ --------------- 11.7/19.1 MB 1.2 MB/s eta 0:00:06\n",
            "   ------------------------ --------------- 11.8/19.1 MB 1.2 MB/s eta 0:00:06\n",
            "   ------------------------ --------------- 11.8/19.1 MB 1.2 MB/s eta 0:00:06\n",
            "   ------------------------ --------------- 11.9/19.1 MB 1.2 MB/s eta 0:00:06\n",
            "   ------------------------- -------------- 12.0/19.1 MB 1.2 MB/s eta 0:00:06\n",
            "   ------------------------- -------------- 12.1/19.1 MB 1.2 MB/s eta 0:00:06\n",
            "   ------------------------- -------------- 12.1/19.1 MB 1.2 MB/s eta 0:00:06\n",
            "   ------------------------- -------------- 12.2/19.1 MB 1.2 MB/s eta 0:00:06\n",
            "   ------------------------- -------------- 12.3/19.1 MB 1.3 MB/s eta 0:00:06\n",
            "   -------------------------- ------------- 12.4/19.1 MB 1.3 MB/s eta 0:00:06\n",
            "   -------------------------- ------------- 12.5/19.1 MB 1.3 MB/s eta 0:00:06\n",
            "   -------------------------- ------------- 12.5/19.1 MB 1.3 MB/s eta 0:00:06\n",
            "   -------------------------- ------------- 12.6/19.1 MB 1.3 MB/s eta 0:00:06\n",
            "   -------------------------- ------------- 12.7/19.1 MB 1.3 MB/s eta 0:00:06\n",
            "   -------------------------- ------------- 12.7/19.1 MB 1.3 MB/s eta 0:00:05\n",
            "   -------------------------- ------------- 12.7/19.1 MB 1.3 MB/s eta 0:00:06\n",
            "   --------------------------- ------------ 12.9/19.1 MB 1.3 MB/s eta 0:00:05\n",
            "   --------------------------- ------------ 12.9/19.1 MB 1.3 MB/s eta 0:00:05\n",
            "   --------------------------- ------------ 13.0/19.1 MB 1.3 MB/s eta 0:00:05\n",
            "   --------------------------- ------------ 13.0/19.1 MB 1.3 MB/s eta 0:00:05\n",
            "   --------------------------- ------------ 13.1/19.1 MB 1.3 MB/s eta 0:00:05\n",
            "   --------------------------- ------------ 13.1/19.1 MB 1.3 MB/s eta 0:00:05\n",
            "   --------------------------- ------------ 13.1/19.1 MB 1.3 MB/s eta 0:00:05\n",
            "   --------------------------- ------------ 13.1/19.1 MB 1.3 MB/s eta 0:00:05\n",
            "   --------------------------- ------------ 13.1/19.1 MB 1.3 MB/s eta 0:00:05\n",
            "   --------------------------- ------------ 13.1/19.1 MB 1.3 MB/s eta 0:00:05\n",
            "   --------------------------- ------------ 13.2/19.1 MB 1.3 MB/s eta 0:00:05\n",
            "   --------------------------- ------------ 13.2/19.1 MB 1.3 MB/s eta 0:00:05\n",
            "   --------------------------- ------------ 13.2/19.1 MB 1.2 MB/s eta 0:00:05\n",
            "   --------------------------- ------------ 13.2/19.1 MB 1.2 MB/s eta 0:00:05\n",
            "   --------------------------- ------------ 13.3/19.1 MB 1.2 MB/s eta 0:00:05\n",
            "   --------------------------- ------------ 13.3/19.1 MB 1.2 MB/s eta 0:00:05\n",
            "   --------------------------- ------------ 13.3/19.1 MB 1.2 MB/s eta 0:00:05\n",
            "   ---------------------------- ----------- 13.4/19.1 MB 1.2 MB/s eta 0:00:05\n",
            "   ---------------------------- ----------- 13.4/19.1 MB 1.2 MB/s eta 0:00:05\n",
            "   ---------------------------- ----------- 13.5/19.1 MB 1.3 MB/s eta 0:00:05\n",
            "   ---------------------------- ----------- 13.6/19.1 MB 1.3 MB/s eta 0:00:05\n",
            "   ---------------------------- ----------- 13.6/19.1 MB 1.3 MB/s eta 0:00:05\n",
            "   ---------------------------- ----------- 13.6/19.1 MB 1.3 MB/s eta 0:00:05\n",
            "   ---------------------------- ----------- 13.6/19.1 MB 1.3 MB/s eta 0:00:05\n",
            "   ---------------------------- ----------- 13.7/19.1 MB 1.2 MB/s eta 0:00:05\n",
            "   ---------------------------- ----------- 13.7/19.1 MB 1.2 MB/s eta 0:00:05\n",
            "   ---------------------------- ----------- 13.8/19.1 MB 1.2 MB/s eta 0:00:05\n",
            "   ----------------------------- ---------- 13.9/19.1 MB 1.3 MB/s eta 0:00:05\n",
            "   ----------------------------- ---------- 13.9/19.1 MB 1.3 MB/s eta 0:00:05\n",
            "   ----------------------------- ---------- 14.0/19.1 MB 1.3 MB/s eta 0:00:05\n",
            "   ----------------------------- ---------- 14.0/19.1 MB 1.3 MB/s eta 0:00:05\n",
            "   ----------------------------- ---------- 14.0/19.1 MB 1.3 MB/s eta 0:00:05\n",
            "   ----------------------------- ---------- 14.0/19.1 MB 1.3 MB/s eta 0:00:05\n",
            "   ----------------------------- ---------- 14.0/19.1 MB 1.2 MB/s eta 0:00:05\n",
            "   ----------------------------- ---------- 14.1/19.1 MB 1.2 MB/s eta 0:00:05\n",
            "   ----------------------------- ---------- 14.1/19.1 MB 1.2 MB/s eta 0:00:04\n",
            "   ----------------------------- ---------- 14.2/19.1 MB 1.2 MB/s eta 0:00:04\n",
            "   ----------------------------- ---------- 14.2/19.1 MB 1.2 MB/s eta 0:00:04\n",
            "   ----------------------------- ---------- 14.2/19.1 MB 1.2 MB/s eta 0:00:04\n",
            "   ----------------------------- ---------- 14.2/19.1 MB 1.2 MB/s eta 0:00:04\n",
            "   ----------------------------- ---------- 14.3/19.1 MB 1.2 MB/s eta 0:00:04\n",
            "   ------------------------------ --------- 14.3/19.1 MB 1.2 MB/s eta 0:00:04\n",
            "   ------------------------------ --------- 14.3/19.1 MB 1.2 MB/s eta 0:00:04\n",
            "   ------------------------------ --------- 14.4/19.1 MB 1.2 MB/s eta 0:00:04\n",
            "   ------------------------------ --------- 14.4/19.1 MB 1.2 MB/s eta 0:00:04\n",
            "   ------------------------------ --------- 14.5/19.1 MB 1.2 MB/s eta 0:00:04\n",
            "   ------------------------------ --------- 14.5/19.1 MB 1.2 MB/s eta 0:00:04\n",
            "   ------------------------------ --------- 14.6/19.1 MB 1.2 MB/s eta 0:00:04\n",
            "   ------------------------------ --------- 14.6/19.1 MB 1.2 MB/s eta 0:00:04\n",
            "   ------------------------------ --------- 14.7/19.1 MB 1.2 MB/s eta 0:00:04\n",
            "   ------------------------------- -------- 14.8/19.1 MB 1.2 MB/s eta 0:00:04\n",
            "   ------------------------------- -------- 14.9/19.1 MB 1.2 MB/s eta 0:00:04\n",
            "   ------------------------------- -------- 14.9/19.1 MB 1.2 MB/s eta 0:00:04\n",
            "   ------------------------------- -------- 15.0/19.1 MB 1.2 MB/s eta 0:00:04\n",
            "   ------------------------------- -------- 15.1/19.1 MB 1.2 MB/s eta 0:00:04\n",
            "   ------------------------------- -------- 15.1/19.1 MB 1.2 MB/s eta 0:00:04\n",
            "   ------------------------------- -------- 15.2/19.1 MB 1.2 MB/s eta 0:00:04\n",
            "   -------------------------------- ------- 15.3/19.1 MB 1.2 MB/s eta 0:00:04\n",
            "   -------------------------------- ------- 15.3/19.1 MB 1.2 MB/s eta 0:00:04\n",
            "   -------------------------------- ------- 15.4/19.1 MB 1.2 MB/s eta 0:00:04\n",
            "   -------------------------------- ------- 15.4/19.1 MB 1.2 MB/s eta 0:00:04\n",
            "   -------------------------------- ------- 15.4/19.1 MB 1.2 MB/s eta 0:00:03\n",
            "   -------------------------------- ------- 15.4/19.1 MB 1.2 MB/s eta 0:00:03\n",
            "   -------------------------------- ------- 15.5/19.1 MB 1.2 MB/s eta 0:00:03\n",
            "   -------------------------------- ------- 15.5/19.1 MB 1.2 MB/s eta 0:00:03\n",
            "   -------------------------------- ------- 15.5/19.1 MB 1.2 MB/s eta 0:00:03\n",
            "   -------------------------------- ------- 15.6/19.1 MB 1.2 MB/s eta 0:00:03\n",
            "   -------------------------------- ------- 15.6/19.1 MB 1.2 MB/s eta 0:00:03\n",
            "   --------------------------------- ------ 15.7/19.1 MB 1.2 MB/s eta 0:00:03\n",
            "   --------------------------------- ------ 15.8/19.1 MB 1.2 MB/s eta 0:00:03\n",
            "   --------------------------------- ------ 15.8/19.1 MB 1.2 MB/s eta 0:00:03\n",
            "   --------------------------------- ------ 15.8/19.1 MB 1.2 MB/s eta 0:00:03\n",
            "   --------------------------------- ------ 15.9/19.1 MB 1.2 MB/s eta 0:00:03\n",
            "   --------------------------------- ------ 15.9/19.1 MB 1.2 MB/s eta 0:00:03\n",
            "   --------------------------------- ------ 16.0/19.1 MB 1.2 MB/s eta 0:00:03\n",
            "   --------------------------------- ------ 16.1/19.1 MB 1.2 MB/s eta 0:00:03\n",
            "   --------------------------------- ------ 16.1/19.1 MB 1.2 MB/s eta 0:00:03\n",
            "   ---------------------------------- ----- 16.3/19.1 MB 1.2 MB/s eta 0:00:03\n",
            "   ---------------------------------- ----- 16.3/19.1 MB 1.2 MB/s eta 0:00:03\n",
            "   ---------------------------------- ----- 16.4/19.1 MB 1.2 MB/s eta 0:00:03\n",
            "   ---------------------------------- ----- 16.4/19.1 MB 1.2 MB/s eta 0:00:03\n",
            "   ---------------------------------- ----- 16.5/19.1 MB 1.2 MB/s eta 0:00:03\n",
            "   ---------------------------------- ----- 16.5/19.1 MB 1.2 MB/s eta 0:00:03\n",
            "   ---------------------------------- ----- 16.6/19.1 MB 1.2 MB/s eta 0:00:03\n",
            "   ---------------------------------- ----- 16.7/19.1 MB 1.2 MB/s eta 0:00:03\n",
            "   ---------------------------------- ----- 16.7/19.1 MB 1.2 MB/s eta 0:00:03\n",
            "   ----------------------------------- ---- 16.7/19.1 MB 1.2 MB/s eta 0:00:03\n",
            "   ----------------------------------- ---- 16.7/19.1 MB 1.1 MB/s eta 0:00:03\n",
            "   ----------------------------------- ---- 16.8/19.1 MB 1.1 MB/s eta 0:00:03\n",
            "   ----------------------------------- ---- 16.8/19.1 MB 1.1 MB/s eta 0:00:02\n",
            "   ----------------------------------- ---- 16.9/19.1 MB 1.2 MB/s eta 0:00:02\n",
            "   ----------------------------------- ---- 16.9/19.1 MB 1.1 MB/s eta 0:00:02\n",
            "   ----------------------------------- ---- 16.9/19.1 MB 1.1 MB/s eta 0:00:02\n",
            "   ----------------------------------- ---- 17.0/19.1 MB 1.1 MB/s eta 0:00:02\n",
            "   ----------------------------------- ---- 17.0/19.1 MB 1.1 MB/s eta 0:00:02\n",
            "   ----------------------------------- ---- 17.1/19.1 MB 1.1 MB/s eta 0:00:02\n",
            "   ------------------------------------ --- 17.2/19.1 MB 1.1 MB/s eta 0:00:02\n",
            "   ------------------------------------ --- 17.2/19.1 MB 1.1 MB/s eta 0:00:02\n",
            "   ------------------------------------ --- 17.2/19.1 MB 1.1 MB/s eta 0:00:02\n",
            "   ------------------------------------ --- 17.3/19.1 MB 1.1 MB/s eta 0:00:02\n",
            "   ------------------------------------ --- 17.4/19.1 MB 1.1 MB/s eta 0:00:02\n",
            "   ------------------------------------ --- 17.5/19.1 MB 1.1 MB/s eta 0:00:02\n",
            "   ------------------------------------ --- 17.6/19.1 MB 1.1 MB/s eta 0:00:02\n",
            "   ------------------------------------- -- 17.6/19.1 MB 1.1 MB/s eta 0:00:02\n",
            "   ------------------------------------- -- 17.7/19.1 MB 1.1 MB/s eta 0:00:02\n",
            "   ------------------------------------- -- 17.8/19.1 MB 1.1 MB/s eta 0:00:02\n",
            "   ------------------------------------- -- 17.9/19.1 MB 1.1 MB/s eta 0:00:01\n",
            "   ------------------------------------- -- 18.0/19.1 MB 1.1 MB/s eta 0:00:01\n",
            "   ------------------------------------- -- 18.1/19.1 MB 1.2 MB/s eta 0:00:01\n",
            "   ------------------------------------- -- 18.1/19.1 MB 1.2 MB/s eta 0:00:01\n",
            "   ------------------------------------- -- 18.1/19.1 MB 1.2 MB/s eta 0:00:01\n",
            "   -------------------------------------- - 18.5/19.1 MB 1.2 MB/s eta 0:00:01\n",
            "   -------------------------------------- - 18.5/19.1 MB 1.2 MB/s eta 0:00:01\n",
            "   ---------------------------------------  18.6/19.1 MB 1.2 MB/s eta 0:00:01\n",
            "   ---------------------------------------  18.7/19.1 MB 1.2 MB/s eta 0:00:01\n",
            "   ---------------------------------------  18.8/19.1 MB 1.2 MB/s eta 0:00:01\n",
            "   ---------------------------------------  18.9/19.1 MB 1.2 MB/s eta 0:00:01\n",
            "   ---------------------------------------  19.0/19.1 MB 1.2 MB/s eta 0:00:01\n",
            "   ---------------------------------------  19.0/19.1 MB 1.2 MB/s eta 0:00:01\n",
            "   ---------------------------------------- 19.1/19.1 MB 1.2 MB/s eta 0:00:00\n",
            "Downloading werkzeug-3.0.6-py3-none-any.whl (227 kB)\n",
            "   ---------------------------------------- 0.0/228.0 kB ? eta -:--:--\n",
            "   ------- -------------------------------- 41.0/228.0 kB 2.0 MB/s eta 0:00:01\n",
            "   ---------------------------- ----------- 163.8/228.0 kB 2.0 MB/s eta 0:00:01\n",
            "   ---------------------------------------  225.3/228.0 kB 1.7 MB/s eta 0:00:01\n",
            "   ---------------------------------------- 228.0/228.0 kB 1.7 MB/s eta 0:00:00\n",
            "Downloading importlib_metadata-8.6.1-py3-none-any.whl (26 kB)\n",
            "Downloading tenacity-9.0.0-py3-none-any.whl (28 kB)\n",
            "Downloading zipp-3.21.0-py3-none-any.whl (9.6 kB)\n",
            "Installing collected packages: dash-table, dash-html-components, dash-core-components, zipp, Werkzeug, tenacity, retrying, ansi2html, plotly, importlib-metadata, flask, dash, jupyter-dash\n",
            "  Attempting uninstall: Werkzeug\n",
            "    Found existing installation: Werkzeug 3.1.3\n",
            "    Uninstalling Werkzeug-3.1.3:\n",
            "      Successfully uninstalled Werkzeug-3.1.3\n",
            "  Attempting uninstall: flask\n",
            "    Found existing installation: Flask 3.1.0\n",
            "    Uninstalling Flask-3.1.0:\n",
            "      Successfully uninstalled Flask-3.1.0\n",
            "Successfully installed Werkzeug-3.0.6 ansi2html-1.9.2 dash-2.18.2 dash-core-components-2.0.0 dash-html-components-2.0.0 dash-table-5.0.0 flask-3.0.3 importlib-metadata-8.6.1 jupyter-dash-0.4.2 plotly-5.24.1 retrying-1.3.4 tenacity-9.0.0 zipp-3.21.0\n",
            "Note: you may need to restart the kernel to use updated packages.\n"
          ]
        },
        {
          "name": "stderr",
          "output_type": "stream",
          "text": [
            "\n",
            "[notice] A new release of pip is available: 24.0 -> 24.3.1\n",
            "[notice] To update, run: python.exe -m pip install --upgrade pip\n"
          ]
        }
      ],
      "source": [
        "pip install jupyter-dash"
      ]
    },
    {
      "cell_type": "code",
      "execution_count": 13,
      "metadata": {
        "id": "IoGDjQHt77Qm"
      },
      "outputs": [
        {
          "ename": "ImportError",
          "evalue": "Plotly express requires pandas to be installed.",
          "output_type": "error",
          "traceback": [
            "\u001b[1;31m---------------------------------------------------------------------------\u001b[0m",
            "\u001b[1;31mImportError\u001b[0m                               Traceback (most recent call last)",
            "Cell \u001b[1;32mIn[13], line 1\u001b[0m\n\u001b[1;32m----> 1\u001b[0m \u001b[38;5;28;01mimport\u001b[39;00m\u001b[38;5;250m \u001b[39m\u001b[38;5;21;01mplotly\u001b[39;00m\u001b[38;5;21;01m.\u001b[39;00m\u001b[38;5;21;01mexpress\u001b[39;00m\u001b[38;5;250m \u001b[39m\u001b[38;5;28;01mas\u001b[39;00m\u001b[38;5;250m \u001b[39m\u001b[38;5;21;01mpx\u001b[39;00m\n\u001b[0;32m      2\u001b[0m \u001b[38;5;28;01mfrom\u001b[39;00m\u001b[38;5;250m \u001b[39m\u001b[38;5;21;01mjupyter_dash\u001b[39;00m\u001b[38;5;250m \u001b[39m\u001b[38;5;28;01mimport\u001b[39;00m JupyterDash   \u001b[38;5;66;03m#3\u001b[39;00m\n\u001b[0;32m      3\u001b[0m \u001b[38;5;28;01mimport\u001b[39;00m\u001b[38;5;250m \u001b[39m\u001b[38;5;21;01mdash_core_components\u001b[39;00m\u001b[38;5;250m \u001b[39m\u001b[38;5;28;01mas\u001b[39;00m\u001b[38;5;250m \u001b[39m\u001b[38;5;21;01mdcc\u001b[39;00m\n",
            "File \u001b[1;32mc:\\Users\\KIIT\\OneDrive\\Desktop\\Cat_Dog_Classification\\venv\\Lib\\site-packages\\plotly\\express\\__init__.py:9\u001b[0m\n\u001b[0;32m      7\u001b[0m pd \u001b[38;5;241m=\u001b[39m optional_imports\u001b[38;5;241m.\u001b[39mget_module(\u001b[38;5;124m\"\u001b[39m\u001b[38;5;124mpandas\u001b[39m\u001b[38;5;124m\"\u001b[39m)\n\u001b[0;32m      8\u001b[0m \u001b[38;5;28;01mif\u001b[39;00m pd \u001b[38;5;129;01mis\u001b[39;00m \u001b[38;5;28;01mNone\u001b[39;00m:\n\u001b[1;32m----> 9\u001b[0m     \u001b[38;5;28;01mraise\u001b[39;00m \u001b[38;5;167;01mImportError\u001b[39;00m(\n\u001b[0;32m     10\u001b[0m \u001b[38;5;250m        \u001b[39m\u001b[38;5;124;03m\"\"\"\\\u001b[39;00m\n\u001b[0;32m     11\u001b[0m \u001b[38;5;124;03mPlotly express requires pandas to be installed.\"\"\"\u001b[39;00m\n\u001b[0;32m     12\u001b[0m     )\n\u001b[0;32m     14\u001b[0m \u001b[38;5;28;01mfrom\u001b[39;00m\u001b[38;5;250m \u001b[39m\u001b[38;5;21;01m.\u001b[39;00m\u001b[38;5;21;01m_imshow\u001b[39;00m\u001b[38;5;250m \u001b[39m\u001b[38;5;28;01mimport\u001b[39;00m imshow\n\u001b[0;32m     15\u001b[0m \u001b[38;5;28;01mfrom\u001b[39;00m\u001b[38;5;250m \u001b[39m\u001b[38;5;21;01m.\u001b[39;00m\u001b[38;5;21;01m_chart_types\u001b[39;00m\u001b[38;5;250m \u001b[39m\u001b[38;5;28;01mimport\u001b[39;00m (  \u001b[38;5;66;03m# noqa: F401\u001b[39;00m\n\u001b[0;32m     16\u001b[0m     scatter,\n\u001b[0;32m     17\u001b[0m     scatter_3d,\n\u001b[1;32m   (...)\u001b[0m\n\u001b[0;32m     54\u001b[0m     density_mapbox,\n\u001b[0;32m     55\u001b[0m )\n",
            "\u001b[1;31mImportError\u001b[0m: Plotly express requires pandas to be installed."
          ]
        }
      ],
      "source": [
        "import plotly.express as px\n",
        "from jupyter_dash import JupyterDash   #3\n",
        "import dash_core_components as dcc\n",
        "import dash_html_components as html\n",
        "from dash.dependencies import Input, Output# Load Data"
      ]
    },
    {
      "cell_type": "code",
      "execution_count": null,
      "metadata": {
        "colab": {
          "base_uri": "https://localhost:8080/"
        },
        "id": "fWSZpaf18YUa",
        "outputId": "91a31ca0-227a-49f2-bc43-33623b884226"
      },
      "outputs": [
        {
          "name": "stdout",
          "output_type": "stream",
          "text": [
            "Collecting pyngrok\n",
            "  Downloading pyngrok-7.2.3-py3-none-any.whl.metadata (8.7 kB)\n",
            "Requirement already satisfied: PyYAML>=5.1 in /usr/local/lib/python3.11/dist-packages (from pyngrok) (6.0.2)\n",
            "Downloading pyngrok-7.2.3-py3-none-any.whl (23 kB)\n",
            "Installing collected packages: pyngrok\n",
            "Successfully installed pyngrok-7.2.3\n"
          ]
        }
      ],
      "source": [
        "pip install pyngrok"
      ]
    },
    {
      "cell_type": "code",
      "execution_count": null,
      "metadata": {
        "id": "xYrdoQYP8ks8"
      },
      "outputs": [],
      "source": [
        "from flask import Flask #5\n",
        "from pyngrok import ngrok"
      ]
    },
    {
      "cell_type": "code",
      "execution_count": null,
      "metadata": {
        "colab": {
          "base_uri": "https://localhost:8080/"
        },
        "id": "O1LHxopD8sbs",
        "outputId": "feea1981-4b10-4e0c-9dee-343b479ed13d"
      },
      "outputs": [
        {
          "name": "stdout",
          "output_type": "stream",
          "text": [
            "https://d714-34-143-139-211.ngrok-free.app\n"
          ]
        }
      ],
      "source": [
        "ngrok.set_auth_token('2rzXZwoI1RuZe6zVB4NL0l9RUdF_5vmoW5KdQbipakof7yNrF')\n",
        "public_url = ngrok.connect(5000).public_url\n",
        "print(public_url) #6"
      ]
    },
    {
      "cell_type": "code",
      "execution_count": null,
      "metadata": {
        "colab": {
          "base_uri": "https://localhost:8080/"
        },
        "id": "6p6DFrSn-Eux",
        "outputId": "a39b7a4a-af6d-4c5b-d1c1-93e4b4e9ff2f"
      },
      "outputs": [
        {
          "name": "stderr",
          "output_type": "stream",
          "text": [
            "WARNING:absl:Compiled the loaded model, but the compiled metrics have yet to be built. `model.compile_metrics` will be empty until you train or evaluate the model.\n"
          ]
        },
        {
          "name": "stdout",
          "output_type": "stream",
          "text": [
            "Public URL: NgrokTunnel: \"https://e90a-34-143-139-211.ngrok-free.app\" -> \"http://localhost:5000\"\n",
            " * Serving Flask app '__main__'\n",
            " * Debug mode: off\n"
          ]
        },
        {
          "name": "stderr",
          "output_type": "stream",
          "text": [
            "INFO:werkzeug:\u001b[31m\u001b[1mWARNING: This is a development server. Do not use it in a production deployment. Use a production WSGI server instead.\u001b[0m\n",
            " * Running on http://127.0.0.1:5000\n",
            "INFO:werkzeug:\u001b[33mPress CTRL+C to quit\u001b[0m\n",
            "INFO:werkzeug:127.0.0.1 - - [22/Jan/2025 17:37:54] \"GET / HTTP/1.1\" 200 -\n",
            "INFO:werkzeug:127.0.0.1 - - [22/Jan/2025 17:37:55] \"\u001b[33mGET /favicon.ico HTTP/1.1\u001b[0m\" 404 -\n"
          ]
        },
        {
          "name": "stdout",
          "output_type": "stream",
          "text": [
            "\u001b[1m1/1\u001b[0m \u001b[32m━━━━━━━━━━━━━━━━━━━━\u001b[0m\u001b[37m\u001b[0m \u001b[1m0s\u001b[0m 183ms/step\n"
          ]
        },
        {
          "name": "stderr",
          "output_type": "stream",
          "text": [
            "INFO:werkzeug:127.0.0.1 - - [22/Jan/2025 17:38:06] \"POST /predict HTTP/1.1\" 200 -\n",
            "INFO:werkzeug:127.0.0.1 - - [22/Jan/2025 17:39:04] \"\u001b[31m\u001b[1mPOST /predict HTTP/1.1\u001b[0m\" 400 -\n",
            "INFO:werkzeug:127.0.0.1 - - [22/Jan/2025 17:39:56] \"\u001b[31m\u001b[1mPOST /predict HTTP/1.1\u001b[0m\" 400 -\n"
          ]
        },
        {
          "name": "stdout",
          "output_type": "stream",
          "text": [
            "\u001b[1m1/1\u001b[0m \u001b[32m━━━━━━━━━━━━━━━━━━━━\u001b[0m\u001b[37m\u001b[0m \u001b[1m0s\u001b[0m 18ms/step\n"
          ]
        },
        {
          "name": "stderr",
          "output_type": "stream",
          "text": [
            "INFO:werkzeug:127.0.0.1 - - [22/Jan/2025 17:40:50] \"POST /predict HTTP/1.1\" 200 -\n"
          ]
        }
      ],
      "source": [
        "from flask import Flask, request, jsonify, render_template\n",
        "from tensorflow.keras.models import load_model\n",
        "import joblib\n",
        "import cv2\n",
        "import numpy as np\n",
        "from pyngrok import ngrok      #7\n",
        "\n",
        "# Initialize Flask app\n",
        "app = Flask(__name__)\n",
        "\n",
        "# Set up ngrok\n",
        "public_url = ngrok.connect(5000)\n",
        "print(f\"Public URL: {public_url}\")\n",
        "\n",
        "# Load models\n",
        "svm_model = joblib.load(\"svm_model.pkl\")\n",
        "rf_model = joblib.load(\"rf_model.pkl\")\n",
        "sgd_model = joblib.load(\"sgd_model.pkl\")\n",
        "cnn_model = load_model(\"cnn_model.h5\")\n",
        "kmeans_model = joblib.load(\"kmeans_model.pkl\")  # Load KMeans model\n",
        "\n",
        "# Label map\n",
        "label_map = {0: \"Cat\", 1: \"Dog\"}\n",
        "\n",
        "def inverse_label(label_idx):\n",
        "    return label_map[label_idx]\n",
        "\n",
        "# Preprocess image\n",
        "def preprocess_image(image_file, size=(16, 16)):\n",
        "    image = cv2.imdecode(np.frombuffer(image_file.read(), np.uint8), cv2.IMREAD_COLOR)\n",
        "    if image is None:\n",
        "        return None\n",
        "    image = cv2.resize(image, size)\n",
        "    image = image / 255.0  # Normalize\n",
        "    return image\n",
        "\n",
        "# Root route\n",
        "@app.route('/')\n",
        "def home():\n",
        "    return \"\"\"\n",
        "    <html>\n",
        "        <head><title>Cat and Dog Classifier</title></head>\n",
        "        <body>\n",
        "            <h1>Welcome to the Cat and Dog Classifier</h1>\n",
        "            <form action=\"/predict\" method=\"post\" enctype=\"multipart/form-data\">\n",
        "                <label for=\"image\">Upload an image:</label>\n",
        "                <input type=\"file\" name=\"image\" accept=\"image/*\" required>\n",
        "                <button type=\"submit\">Predict</button>\n",
        "            </form>\n",
        "        </body>\n",
        "    </html>\n",
        "    \"\"\"\n",
        "\n",
        "# Prediction route\n",
        "@app.route('/predict', methods=['POST'])\n",
        "def predict():\n",
        "    if 'image' not in request.files:\n",
        "        return jsonify({'error': 'No image uploaded'}), 400\n",
        "\n",
        "    image_file = request.files['image']\n",
        "    image = preprocess_image(image_file)\n",
        "\n",
        "    if image is None:\n",
        "        return jsonify({'error': 'Invalid image format'}), 400\n",
        "\n",
        "    # Flatten image for non-CNN models\n",
        "    flattened_image = image.reshape(1, -1)\n",
        "\n",
        "    # CNN requires a 4D tensor\n",
        "    cnn_image = image.reshape(1, 16, 16, 3)\n",
        "\n",
        "    # Make predictions\n",
        "    svm_prediction = inverse_label(svm_model.predict(flattened_image)[0])\n",
        "    rf_prediction = inverse_label(rf_model.predict(flattened_image)[0])\n",
        "    sgd_prediction = inverse_label(sgd_model.predict(flattened_image)[0])\n",
        "    cnn_prediction = inverse_label(np.argmax(cnn_model.predict(cnn_image), axis=1)[0])\n",
        "\n",
        "    # KMeans prediction (returns cluster number)\n",
        "    kmeans_cluster = kmeans_model.predict(flattened_image)[0]\n",
        "    kmeans_prediction = f\"Cluster {kmeans_cluster}\"\n",
        "\n",
        "    return jsonify({\n",
        "        'svm_prediction': svm_prediction,\n",
        "        'rf_prediction': rf_prediction,\n",
        "        'sgd_prediction': sgd_prediction,\n",
        "        'cnn_prediction': cnn_prediction,\n",
        "        'kmeans_prediction': kmeans_prediction\n",
        "    })\n",
        "\n",
        "if __name__ == '__main__':\n",
        "    app.run(port=5000)"
      ]
    }
  ],
  "metadata": {
    "accelerator": "GPU",
    "colab": {
      "gpuType": "T4",
      "provenance": []
    },
    "kernelspec": {
      "display_name": "venv",
      "language": "python",
      "name": "python3"
    },
    "language_info": {
      "codemirror_mode": {
        "name": "ipython",
        "version": 3
      },
      "file_extension": ".py",
      "mimetype": "text/x-python",
      "name": "python",
      "nbconvert_exporter": "python",
      "pygments_lexer": "ipython3",
      "version": "3.12.4"
    }
  },
  "nbformat": 4,
  "nbformat_minor": 0
}
